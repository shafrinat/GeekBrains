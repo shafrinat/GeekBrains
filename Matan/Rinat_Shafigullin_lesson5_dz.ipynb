{
 "cells": [
  {
   "cell_type": "markdown",
   "id": "c53d5903",
   "metadata": {},
   "source": [
    "### Домашнее задание к уроку №5\n",
    "### Тема “Предел функции”\n",
    "...только МатАн, только хардкор."
   ]
  },
  {
   "cell_type": "markdown",
   "id": "a71154d5",
   "metadata": {},
   "source": [
    "##### Найти предел:\n",
    "1)\n",
    "$$lim_{x\\to \\infty} \\left(\\frac{x+3}{x}\\right)^{4x+1}$$<br>\n",
    "Приведем данное выражение к виду второго замечательного предела, для этого первым шагом разобьем дробь и получим единицу:<br>\n",
    "$$lim_{x\\to \\infty} \\left(\\frac{x+3}{x}\\right)^{4x+1}=lim_{x\\to \\infty} \\left(\\frac{x}{x}+\\frac{3}{x}\\right)^{4x+1}=lim_{x\\to \\infty} \\left(1+\\frac{3}{x}\\right)^{4x+1}$$<br>\n",
    "Вторым шагом домножим и разделим степень на <i>x/3</i>:\n",
    "$$lim_{x\\to \\infty} \\left(1+\\frac{3}{x}\\right)^{4x+1}=lim_{x\\to \\infty} \\left(1+\\frac{3}{x}\\right)^{\\frac{x}{3}\\cdot\\frac{3}{x}\\cdot(4x+1)}$$<br>\n",
    "Получили второй замечательный предел: $$lim_{x\\to \\infty} \\left(1+\\frac{3}{x}\\right)^{\\frac{x}{3}}=e$$<br>\n",
    "В итоге у нас осталось:\n",
    "$$lim_{x\\to \\infty} e^{\\frac{3}{x}\\cdot(4x+1)}$$<br>\n",
    "Согласно свойства предела:\n",
    "$$lim_{x\\to \\infty} e^{\\frac{3}{x}\\cdot(4x+1)}=e^{lim_{x\\to \\infty}\\frac{3}{x}\\cdot(4x+1)}$$\n",
    "Тут мы имеем дело с неопределенностью вида $$lim_{x\\to \\infty}\\frac{3\\times(4x+1)}{x}=\\frac{\\infty}{\\infty},$$<br>\n",
    "но при этом в числителе и знаменателе одинаковые степени, поэтому для нахождения предела берем коэффициенты перед старшими степенями, не забыв раскрыть скобки:$$lim_{x\\to \\infty}\\frac{3\\times(4x+1)}{x}=\\frac{12}{1}.$$\n",
    "Таким образом ответ:$$lim_{x\\to \\infty} \\left(\\frac{x+3}{x}\\right)^{4x+1}=lim_{x\\to \\infty} e^{\\frac{3}{x}\\cdot(4x+1)}=e^{12}$$"
   ]
  },
  {
   "cell_type": "markdown",
   "id": "6c02c7f1",
   "metadata": {},
   "source": [
    "2) $$lim_{x\\to 0}\\frac{\\sin(2x)}{4x}$$<br>\n",
    "Ну тут совсем все просто, после небольшого преобразования получим первый замечательный предел:\n",
    "$$lim_{x\\to 0}\\frac{\\sin(2x)}{4x}=lim_{x\\to 0}\\frac{\\sin(2x)}{2\\cdot2x}=lim_{x\\to 0}\\frac{1}{2}\\cdot\\frac{\\sin(2x)}{2x}=\\frac{1}{2}\\cdot1=\\frac{1}{2}$$"
   ]
  },
  {
   "cell_type": "markdown",
   "id": "b4fe92d2",
   "metadata": {},
   "source": [
    "3)$$lim_{x\\to0}\\frac{x}{\\sin(x)}$$\n",
    "Тут можно пойти двумя путями:<br>\n",
    "1. По таблице эквивалентностей: $$\\sin \\alpha(x)\\sim\\alpha(x)$$\n",
    "А что нам мешает прозвести замену в обратную сторону? Заменим и получим:$$lim_{x\\to0}\\frac{\\sin (x)}{x}=1$$\n",
    "Первый замечательный предел в действии.\n",
    "2. Смотрим \"Урок 4. Предел функции. Часть 1\" В районе 1:28:00 говорится про следствие из первого замечательного предела, и что данное выражение под номером 12 равно единице."
   ]
  },
  {
   "cell_type": "markdown",
   "id": "3f94c7bc",
   "metadata": {},
   "source": [
    "4)$$lim_{x\\to0}\\frac{x}{\\arcsin x}$$<br>\n",
    "По таблице эквивалентностей произведем замену:\n",
    "$$\\arcsin \\alpha(x)\\sim\\alpha(x)$$\n",
    "$$lim_{x\\to0}\\frac{x}{\\arcsin x}=lim_{x\\to0}\\frac{x}{x}=1$$"
   ]
  },
  {
   "cell_type": "markdown",
   "id": "02272d8e",
   "metadata": {},
   "source": [
    "5) $$lim_{x\\to\\infty}\\left(\\frac{4x+3}{4x-3}\\right)^{6x}$$\n",
    "Аналогичный пример разбирался на уроке, путем приведения данного выражения ко второму замечательному пределу:\n",
    "$$lim_{x\\to\\infty}\\left(\\frac{4x+3}{4x-3}\\right)^{6x}=lim_{x\\to\\infty}\\left(\\frac{4x-3+3+3}{4x-3}\\right)^{6x}=lim_{x\\to\\infty}\\left(\\frac{4x-3}{4x-3}+\\frac{3+3}{4x-3}\\right)^{6x}=lim_{x\\to\\infty}\\left(1+\\frac{6}{4x-3}\\right)^{6x}$$\n",
    "Теперь разберемся со степенью:\n",
    "$$lim_{x\\to\\infty}\\left(1+\\frac{6}{4x-3}\\right)^{6x}=lim_{x\\to\\infty}\\left(1+\\frac{6}{4x-3}\\right)^{\\frac{4x-3}{6}\\cdot\\frac{6}{4x-3}\\cdot6x}=lim_{x\\to\\infty}e^{\\frac{6\\times6x}{4x-3}}=e^{lim_{x\\to\\infty}\\frac{36x}{4x-3}}$$\n",
    "Тут мы видим неопределенность вида \"бесконечность разделить на бесконечность\", при этом старшие степени числителя и знаменателя одинаковые. Значит берем коэффициенты при старших степенях\n",
    "$$e^{lim_{x\\to\\infty}\\frac{36x}{4x-3}}=e^{\\frac{36}{4}}=e^9$$"
   ]
  },
  {
   "cell_type": "markdown",
   "id": "5887f5e7",
   "metadata": {},
   "source": [
    "6)$$lim_{x\\to\\infty}\\frac{\\sin x+\\ln x}{x}$$\n",
    "Так как на этапе задания этого ДЗ мы еще не знаем про правило Лопиталя, то будем решать логически. Разобьем это выражение на два слагаемых, так как предел суммы равен сумме пределов.\n",
    "$$lim_{x\\to\\infty}\\frac{\\sin x}{x}+lim_{x\\to\\infty}\\frac{\\ln x}{x}$$\n",
    "Рассмотрим первое слагаемое:\n",
    "$$lim_{x\\to\\infty}\\frac{\\sin x}{x}$$ Значение функции <i>sin x</i> лежит в пределах [-1;1] включительно, при любых значениях <i>x</i>.<br>\n",
    "Далее: $$lim_{x\\to\\infty}\\frac{1}{x}=0,$$ так как единица делится на бесконечно большое число. В итоге мы имеем произведение некоторого числа из отрезка [-1;1] на 0. В результате первое слагаемое обращатся в 0."
   ]
  },
  {
   "cell_type": "code",
   "execution_count": 25,
   "id": "62ca92aa",
   "metadata": {},
   "outputs": [
    {
     "data": {
      "text/plain": [
       "<matplotlib.legend.Legend at 0x151c38ff790>"
      ]
     },
     "execution_count": 25,
     "metadata": {},
     "output_type": "execute_result"
    },
    {
     "data": {
      "image/png": "[encoded data removed]",
      "text/plain": [
       "<Figure size 432x288 with 1 Axes>"
      ]
     },
     "metadata": {
      "needs_background": "light"
     },
     "output_type": "display_data"
    }
   ],
   "source": [
    "#Для оценки второго слагаемого построю графики\n",
    "import numpy as np\n",
    "import math\n",
    "import matplotlib.pyplot as plt\n",
    "%matplotlib inline\n",
    "x = np.linspace(0.1, 100, 500) #создаем массив из 500 элементов от 1 до 100\n",
    "y1 = x                       # массив значений y=x\n",
    "y2 = []\n",
    "for i in range (len(x)):\n",
    "    y2.append(math.log(x[i])) # массив значений y=ln(x)\n",
    "plt.plot(x, y1, label=\"y1 = x\")\n",
    "plt.plot(x, y2, label=\"y2 = ln(x)\")\n",
    "plt.legend()"
   ]
  },
  {
   "cell_type": "markdown",
   "id": "1c05fcac",
   "metadata": {},
   "source": [
    "Как видно из графиков, значение функции y=ln(x) возрастает медленнее, чем значение функции y=x. То есть при устремлении \"х\" в бесконечность, знаменатель второго слагаемого будет расти быстрее, чем числитель, тем самым, в пределе обращая дробь в 0. Отсюда вывод:\n",
    "$$lim_{x\\to\\infty}\\frac{\\sin x+\\ln x}{x}=lim_{x\\to\\infty}\\frac{\\sin x}{x}+lim_{x\\to\\infty}\\frac{\\ln x}{x}=0+0=0$$"
   ]
  },
  {
   "cell_type": "markdown",
   "id": "bb4f73e5",
   "metadata": {},
   "source": [
    "7) $$lim_{x\\to0}\\frac{\\sin x+\\ln x}{x}$$\n",
    "Разобьем на 2 слагаемыхтак как предел суммы равен сумме пределов:\n",
    "$$lim_{x\\to0}\\frac{\\sin x+\\ln x}{x}=lim_{x\\to0}\\frac{\\sin x}{x}+lim_{x\\to0}\\frac{\\ln x}{x}$$\n",
    "Первое слагаемое - это первый замечательный предел, и равняется единице.\n",
    "Чтобы оценить второе слагаемое снова взгянем на график. "
   ]
  },
  {
   "cell_type": "code",
   "execution_count": 29,
   "id": "8fdb5ebe",
   "metadata": {},
   "outputs": [
    {
     "data": {
      "text/plain": [
       "<matplotlib.legend.Legend at 0x151c3b3ed60>"
      ]
     },
     "execution_count": 29,
     "metadata": {},
     "output_type": "execute_result"
    },
    {
     "data": {
      "image/png": "[encoded data removed]",
      "text/plain": [
       "<Figure size 432x288 with 1 Axes>"
      ]
     },
     "metadata": {
      "needs_background": "light"
     },
     "output_type": "display_data"
    }
   ],
   "source": [
    "%matplotlib inline\n",
    "x = np.linspace(0.00001, 10, 500) #создаем массив из 500 элементов \n",
    "y1 = x                       # массив значений y=x\n",
    "y2 = []\n",
    "for i in range (len(x)):\n",
    "    y2.append(math.log(x[i])) # массив значений y=ln(x)\n",
    "plt.plot(x, y1, label=\"y1 = x\")\n",
    "plt.plot(x, y2, label=\"y2 = ln(x)\")\n",
    "plt.legend()"
   ]
  },
  {
   "attachments": {},
   "cell_type": "markdown",
   "id": "dc30546c",
   "metadata": {},
   "source": [
    "Таким образом, устремив х к нулю, знаменатель второго слагаемого обращается в бесконечно малое число, тем самым увеличивая абсолютное значение всей дроби. А числитель, судя по графику, устремляется к минус бесконечности. В итоге ответ:\n",
    "$$lim_{x\\to0}\\frac{\\sin x+\\ln x}{x}=lim_{x\\to0}\\frac{\\sin x}{x}+lim_{x\\to0}\\frac{\\ln x}{x}=1+(-\\infty)=-\\infty$$"
   ]
  },
  {
   "cell_type": "markdown",
   "id": "f2e01fbd",
   "metadata": {},
   "source": [
    "### Тема “Понятие о производной”"
   ]
  },
  {
   "cell_type": "markdown",
   "id": "7017868a",
   "metadata": {},
   "source": [
    "##### Найти производную выражения:"
   ]
  },
  {
   "cell_type": "markdown",
   "id": "f8ec398b",
   "metadata": {},
   "source": [
    "a. $$\\sin x\\cdot\\cos x$$<br>\n",
    "В этом случае применяем формулу производной произведения\n",
    "$$(\\sin x\\cdot\\cos x)'=\\sin' x\\cdot\\cos x+\\sin x\\cdot\\cos' x=\\cos^2 x-\\sin^2x$$"
   ]
  },
  {
   "cell_type": "markdown",
   "id": "53443c76",
   "metadata": {},
   "source": [
    "b.\n",
    "$$\\ln(2x+1)^3$$\n",
    "Здесь случай с производной сложной функции, поэтому будем разворачивать обертку за оберткой:\n",
    "$$(\\ln(2x+1)^3)'=\\frac{1}{(2x+1)^3}\\cdot3(2x+1)^2\\cdot2=\\frac{6}{2x+1}$$"
   ]
  },
  {
   "cell_type": "markdown",
   "id": "d5bf97a8",
   "metadata": {},
   "source": [
    "c. $$\\frac{x^4}{\\ln(x)}$$\n",
    "Здесь нет сложной функции, есть только производная частного. Расписывать не буду, все по формуле, заученной еще в школе(\"у-штрих в минус у в-штрих и разделить на в-квадрат):\n",
    "$$\\left(\\frac{x^4}{\\ln(x)}\\right)'=\\frac{4x^3\\cdot\\ln(x)-x^4\\cdot\\frac{1}{x}}{\\ln^2(x)}=\\frac{x^3(4\\ln(x)-1)}{\\ln^2(x)}$$"
   ]
  }
 ],
 "metadata": {
  "kernelspec": {
   "display_name": "Python 3",
   "language": "python",
   "name": "python3"
  },
  "language_info": {
   "codemirror_mode": {
    "name": "ipython",
    "version": 3
   },
   "file_extension": ".py",
   "mimetype": "text/x-python",
   "name": "python",
   "nbconvert_exporter": "python",
   "pygments_lexer": "ipython3",
   "version": "3.8.8"
  }
 },
 "nbformat": 4,
 "nbformat_minor": 5
}
