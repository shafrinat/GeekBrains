{
 "cells": [
  {
   "cell_type": "markdown",
   "id": "2d116f95",
   "metadata": {},
   "source": [
    "### Домашнее задание к уроку 11\n",
    "##### “Ряды”"
   ]
  },
  {
   "cell_type": "markdown",
   "id": "3097fbe2",
   "metadata": {},
   "source": [
    "1. Исследовать ряд на сходимость, используя признак д’Аламбера:\n",
    "$$\n",
    "\\sum_{n=1}^{\\infty}\\frac{n^n}{(n!)^2}$$\n",
    "Признак д’Аламбера выглядит следующим образом:\n",
    "$$\n",
    "\\lim_{n\\to\\infty}\\frac{a_{n+1}}{a_n}=q,$$\n",
    "при q<1 ряд сходится, при q>1 ряд расходится, при q=1 нужны дополнительные исследования.<br>\n",
    "Let's begin!\n",
    "$$\n",
    "q=\\lim_{n\\to\\infty}\\frac{a_{n+1}}{a_n}=\\lim_{n\\to\\infty}\\frac{(n+1)^{n+1}\\cdot(n!)^2}{((n+1)!)^2\\cdot n^n}=\\lim_{n\\to\\infty}\\frac{(n+1)^n\\cdot(n+1)\\cdot(n!)^2}{(n!\\cdot(n+1))^2\\cdot n^n}=\\lim_{n\\to\\infty}\\frac{(n+1)^n\\cdot(n+1)\\cdot(n!)^2}{(n!)^2\\cdot(n+1)^2\\cdot n^n}$$\n",
    "<br>\n",
    "Числитель и знаменатель сократим на $(n!)^2\\cdot(n+1)$ и останется у нас:\n",
    "$$\n",
    "q=\\lim_{n\\to\\infty}\\frac{(n+1)^n}{(n+1)\\cdot n^n}=\\lim_{n\\to\\infty}\\frac{1}{n+1}\\cdot\\frac{(n+1)^n}{n^n}=\\lim_{n\\to\\infty}\\frac{1}{n+1}\\cdot \\lim_{n\\to\\infty}\\frac{(n+1)^n}{n^n}$$\n",
    "Рассмотрим поближе второй множитель:\n",
    "$$\n",
    "\\lim_{n\\to\\infty}\\frac{(n+1)^n}{n^n}$$\n",
    "Немного его преобразуем:\n",
    "$$\n",
    "\\lim_{n\\to\\infty}\\frac{(n+1)^n}{n^n}=\\lim_{n\\to\\infty}\\left(\\frac{n+1}{n}\\right)^n=\\lim_{n\\to\\infty}\\left(\\frac{n}{n}+\\frac{1}{n}\\right)^n=\\lim_{n\\to\\infty}\\left(1+\\frac{1}{n}\\right)^n=e,$$\n",
    "После преобразований второй множитель превратился во второй замечательный предел! Таким образом у нас получилось:\n",
    "$$\n",
    "\\lim_{n\\to\\infty}\\frac{1}{n+1}\\cdot \\lim_{n\\to\\infty}\\frac{(n+1)^n}{n^n}=\\lim_{n\\to\\infty}\\frac{1}{n+1}\\cdot e=\\lim_{n\\to\\infty}\\frac{e}{n+1}=0,$$\n",
    "так как в числителе дроби константа (е - число Эйлера), а знаменатель в пределе стремится к бесконечности при $n\\to\\infty$\n",
    "\n",
    "Таким образом q=0<1 $\\implies$ ряд сходится.\n",
    "<br> "
   ]
  },
  {
   "cell_type": "markdown",
   "id": "8f96acc9",
   "metadata": {},
   "source": [
    "2. Исследовать ряд на сходимость, используя радикальный признак Коши:\n",
    "$$\n",
    "\\sum_{n=1}^{\\infty}\\frac{n}{2^n}$$\n",
    "Радикальный признак Коши выглядит так:\n",
    "$$\n",
    "\\lim_{n\\to+\\infty}\\sqrt[n]{a_n}=q,$$\n",
    "при q<1 ряд сходится, при q>1 ряд расходится, при q=1 радикальный признак Коши не работает.\n",
    "$$\n",
    "q=\\lim_{n\\to+\\infty}\\sqrt[n]{\\frac{n}{2^n}}=\\frac{1}{2}\\lim_{n\\to+\\infty}\\sqrt[n]{n}=\\frac{1}{2}\\cdot 1=\\frac{1}{2}$$\n",
    "Таким образом q<1 $\\implies$ ряд сходится.\n",
    "<br>\n",
    "(не могу объяснить почему $\\sqrt[n]{n}\\to 1$, при $n\\to+\\infty$ )"
   ]
  },
  {
   "cell_type": "markdown",
   "id": "821556c7",
   "metadata": {},
   "source": [
    "3. Исследовать ряд на сходимость, используя признак Лейбница:\n",
    "$$\n",
    "\\sum_{n=1}^\\infty \\frac{(-1)^n}{n+\\ln n}$$\n",
    "*Решение по mathprofi.ru*<br>\n",
    "Первым пунктом необходимо проверить, стремится ли к нулю при $n\\to\\infty$ модуль общего член ряда:\n",
    "$$\n",
    "\\lim_{n\\to\\infty}\\left|\\frac{(-1)^n}{n+\\ln n}\\right|=\\frac{1}{n+\\ln n}=\\frac{1}{\\infty}=0$$\n",
    "Вторым пунктом проверим, является ли каждый последующий член ряда по модулю меньше, чем предыдущий по модулю. Много слов, математически все проще:\n",
    "$$\n",
    "|a_n|\\geq|a_{n+1}|$$\n",
    "Для этого просто уберем (-) перед единицей:\n",
    "$$\n",
    "\\frac{1^n}{n+\\ln n}>\\frac{1^n}{n+1+\\ln (n+1)}$$\n",
    "Данное неравенство является истинным, так как в числителе единица, а с ростом n значение в знаменателе увеличивается, соответственно дробь справа от знака неравенства меньше дроби слева.\n",
    "Итак, при исследовании знакочередующегося ряда на сходимость по признаку Лейбница мы получили 1) общий член ряда по модулю стремится к нулю при $n\\to\\infty$, т.е. $\\sum_{n=1}^\\infty \\left|\\frac{(-1)^n}{n+\\ln n}\\right|$ ; 2) модуль каждого последующего члена ряда меньше модуля предыдущего члена ряда (опять много слов), т.е. ряд из модулей является сходящимся. Таким образом оба условия выполняются и ряд, указанный в задании, сходится абсолютно."
   ]
  },
  {
   "cell_type": "markdown",
   "id": "3bd6b721",
   "metadata": {},
   "source": [
    "4. Исследовать ряд на сходимость, используя признак Раабе:\n",
    "$$\n",
    "\\sum_{n=1}^\\infty \\frac{3^n}{2^n}$$\n",
    "Признак Раабе гласит: если существует предел\n",
    "$$\n",
    "\\lim_{n\\to\\infty}\\left(n\\cdot\\left(\\frac{a_n}{a_{n+1}}-1\\right)\\right)=D,$$\n",
    "то при D<1 ряд расходится, при D>1 ряд сходится, при D=1 признак не дает ответа.<br>\n",
    "(закатываю рукава) Приступим:\n",
    "$$\n",
    "D=\\lim_{n\\to\\infty}\\left(n\\cdot\\left(\\frac{3^n\\cdot2^{n+1}}{2^n\\cdot3^{n+1}}-1\\right)\\right)=\\lim_{n\\to\\infty}\\left(n\\cdot\\left(\\frac{3^n\\cdot2^n\\cdot2}{2^n\\cdot3^n\\cdot3}-1\\right)\\right)=$$\n",
    "После сокращений и прочей математической магии получим:\n",
    "$$\n",
    "=\\lim_{n\\to\\infty}-\\frac{1}{3}n=-\\infty$$\n",
    "Итак, D<1, значит ряд расходится"
   ]
  },
  {
   "cell_type": "markdown",
   "id": "65f5274a",
   "metadata": {},
   "source": [
    "5. Разложить функцию по Тейлору в единице:\n",
    "$$f(x)=\\ln(16x^2)$$\n",
    "Для начала вспомним, как раскладывается функция в ряд Тейлора:\n",
    "$$\n",
    "f(x)=\\sum_{n=0}^\\infty\\frac{f^{(n)}(a)}{n!}(x-a)^n$$\n",
    "Разложение функции примет вид:\n",
    "$$\n",
    "f(x)=\\ln16 + 2(x-1) - (x-1)^2 + \\frac{2}{3}(x-1)^3-\\frac{1}{2}(x-1)^4+\\frac{2}{5}(x-1)^5+...+\\frac{f^{(n)}(1)}{n!}(x-1)^n$$\n",
    "Обощив слагаемые под знак суммы получим разложение в следующе кратком виде:\n",
    "$$\n",
    "f(x)=\\ln16+\\sum_{n=1}^{\\infty}(-1)^{n+1}\\frac{2}{n}(x-1)^n$$\n",
    "Такая запись легко читаема и интуитивно понятна, но немного громоздка и ее можно упростить, если объединить множители с одинаковыми степенями:\n",
    "$$\n",
    "f(x)=\\ln16+\\sum_{n=1}^{\\infty}\\frac{-2(1-x)^n}{n}$$\n",
    "Такая запись кратка и математически красива, но логика вычисления каждого слагаемого немного спрятана внутри. Для вычисления вручную я бы оставил первый вариант, а для составления программы второй."
   ]
  },
  {
   "cell_type": "markdown",
   "id": "d0270dbf",
   "metadata": {},
   "source": [
    "6*.\n",
    "*Задания по математике должны быть как коньяк - чем больше звездочек, тем лучше* <br>\n",
    "<br>\n",
    "Дана функция $f(x)=x^2$<br>\n",
    "a. Разложить функцию в ряд Фурье по косинусам на отрезке $x\\in[-\\pi;\\pi]$<br>\n",
    "b. Построить график функции и ее разложения.<br>\n",
    "<br>\n",
    "<b>a.</b><br>\n",
    "Для четной функции (а $f(x)=x^2$ как раз четная), интегрируемой на отрезке $[-\\pi;\\pi]$ разложение в тригонометрический ряд Фурье выглядит так:\n",
    "$$\n",
    "f(x)\\sim \\frac{a_0}{2}+\\sum_{n=1}^\\infty(a_n\\cos nx),$$\n",
    "где $a_0, a_n$- коэффициенты Фурье, которые рассчитываются по формулам:<br>\n",
    "$$\n",
    "a_0=\\frac{2}{\\pi}\\int\\limits_{0}^{\\pi}f(x)dx$$\n",
    "$$\n",
    "a_n=\\frac{2}{\\pi}\\int\\limits_{0}^{\\pi}f(x)\\cos nxdx$$\n",
    "Давайте их посчитаем:\n",
    "$$\n",
    "a_0=\\frac{2}{\\pi}\\int\\limits_{0}^{\\pi}f(x)dx=\\frac{2}{\\pi}\\int\\limits_{0}^{\\pi}x^2dx=\\left.\\frac{2}{\\pi}\\cdot \\frac{x^3}{3}\\right|_{0}^{\\pi}=\\frac{2\\cdot\\pi^3}{\\pi\\cdot3}-\\frac{2\\cdot0^3}{\\pi\\cdot3}=\\frac{2\\pi^2}{3}$$\n",
    "Второй немного посложнее:\n",
    "$$\n",
    "a_n=\\frac{2}{\\pi}\\int\\limits_{0}^{\\pi}f(x)\\cos nxdx=\\frac{2}{\\pi}\\int\\limits_{0}^{\\pi}x^2\\cos nxdx$$\n",
    "Этот прекрасный интеграл возьмем по частям:\n",
    "$$ u=x^2 $$ \n",
    "$$ du=2xdx $$\n",
    "$$ dv=\\cos nxdx $$ \n",
    "$$ v=\\int\\cos nxdx=\\frac{1}{n}\\int\\cos nxd(nx)=\\frac{\\sin nx}{n}$$\n",
    "Получим:\n",
    "$$\n",
    "a_n=\\frac{2}{\\pi}\\int\\limits_{0}^{\\pi}x^2\\cos nxdx=\\frac{2}{\\pi}\\left(\\left.x^2\\frac{\\sin nx}{n}\\right|_{0}^{\\pi}-\\int\\limits_{0}^{\\pi}\\frac{\\sin nx}{n}2xdx\\right)\\quad(1)\n",
    "$$\n",
    "Чтобы избавиться от балласта, рассчитаем в скобках вычитаемое:\n",
    "$$\n",
    "\\left.x^2\\frac{\\sin nx}{n}\\right|_{0}^{\\pi}=\\pi^2\\frac{\\sin\\pi n}{n}-0^2\\frac{\\sin0n}{n}=0,\n",
    "$$\n",
    "потому что $\\sin\\pi n=0$ и, как ни странно, $0^2=0$. После преобразований вернемся к (1) и еще немного \"поколдуем\":\n",
    "$$\n",
    "a_n=\\frac{2}{\\pi}\\left(-\\int\\limits_{0}^{\\pi}\\frac{\\sin nx}{n}2xdx\\right)=-\\frac{4}{\\pi n}\\int\\limits_{0}^{\\pi}x\\sin nxdx \\quad (2)$$\n",
    "<br>\n",
    "Снова применим интегрирование по частям:\n",
    "$$ u=x$$\n",
    "$$ du=dx$$\n",
    "$$ dv=\\sin nxdx$$\n",
    "$$ v=\\int\\sin nxdx=\\frac{1}{n}\\int \\sin nx d(nx)=-\\frac{\\cos nx}{n}$$\n",
    "Вернемся к (2):\n",
    "$$\n",
    "a_n=-\\frac{4}{\\pi n}\\int\\limits_{0}^{\\pi}x\\sin nxdx=-\\frac{4}{\\pi n}\\left(\\left.-x\\frac{\\cos nx}{n}\\right|_0^{\\pi}-\\int\\limits_{0}^{\\pi}-\\frac{\\cos nx}{n}dx\\right)=-\\frac{4}{\\pi n}\\left[\\left(-\\pi\\frac{\\cos\\pi n}{n}+0\\frac{\\cos0n}{n}\\right)+\\frac{1}{n}\\int\\limits_{0}^{\\pi}\\cos nxdx\\right]=\\frac{4}{\\pi n}\\cdot \\frac{\\pi}{n}\\left((-1)^n+\\frac{1}{n^2}\\int\\limits_{0}^{\\pi}\\cos nxd(nx)\\right)=\\frac{4}{n^2}\\left((-1)^n+\\left.\\frac{\\sin nx}{n^2}\\right|_{0}^{\\pi}\\right)=\\frac{4}{n^2}\\left[(-1)^n+\\left(\\frac{\\sin \\pi n}{n^2}-\\frac{\\sin 0n}{n^2}\\right)\\right]$$\n",
    "А так как $\\sin \\pi n=0$ и $\\sin 0=0$, то в итоге у нас остается:\n",
    "$$\n",
    "a_n=(-1)^n\\frac{4}{n^2}$$\n",
    "<br>\n",
    "Теперь осталось вспомнить, с чего все начиналось:<br>\n",
    "...ряд Фурье выглядит так:\n",
    "$$\n",
    "f(x)\\sim \\frac{a_0}{2}+\\sum_{n=1}^\\infty(a_n\\cos nx)$$\n",
    "Зная коэффициенты $a_0$ и $a_n$ запишем полученную формулу:\n",
    "$$\n",
    "f(x)\\sim \\frac{\\pi^2}{3}+\\sum_{n=1}^\\infty(-1)^n\\frac{4\\cos nx}{n^2}$$"
   ]
  },
  {
   "cell_type": "markdown",
   "id": "1b3aeb93",
   "metadata": {},
   "source": [
    "<b>b.Построить график функции и ее разложения.</b>"
   ]
  },
  {
   "cell_type": "code",
   "execution_count": 17,
   "id": "4882c2a6",
   "metadata": {},
   "outputs": [
    {
     "data": {
      "image/png": "[encoded data removed]",
      "text/plain": [
       "<Figure size 432x288 with 1 Axes>"
      ]
     },
     "metadata": {
      "needs_background": "light"
     },
     "output_type": "display_data"
    }
   ],
   "source": [
    "import numpy as np\n",
    "import math as m\n",
    "import matplotlib.pyplot as plt\n",
    "%matplotlib inline\n",
    "x_list = np.linspace(-4, 4, 100) #список иксов\n",
    "y_list = []\n",
    "for i in range(len(x_list)):\n",
    "    y_list.append(x_list[i]*x_list[i])\n",
    "y1 = []\n",
    "n1=2 # Задаем n\n",
    "for i in range(len(x_list)): # Перебираем иксы\n",
    "    f_x=(pow(m.pi, 2))/3\n",
    "    for n in range (1, n1+1): # Цикл суммы слагаемых\n",
    "        element = pow(-1, n)*4*m.cos(n*x_list[i])/(n*n)\n",
    "        f_x = f_x+element\n",
    "    y1.append(f_x)\n",
    "    \n",
    "plt.plot(x_list, y_list, label=\"y=x^2\")\n",
    "plt.plot(x_list, y1, label=\"По ряду Фурье при n=2\")\n",
    "plt.legend()\n",
    "plt.grid()"
   ]
  },
  {
   "cell_type": "markdown",
   "id": "22a56b22",
   "metadata": {},
   "source": [
    "Мария, спасибо за очень интересный курс! \n",
    "Давно мой мозг так не работал, и кроме знаний я получил массу удовольствия. Если нужно, можете использовать мои работы в своих целях. Было бы очень приятно встретиться с Вами снова, в рамках обучения, работы или в иной неформальной обстановке. Желаю Вам дальнейших успехов!"
   ]
  }
 ],
 "metadata": {
  "kernelspec": {
   "display_name": "Python 3",
   "language": "python",
   "name": "python3"
  },
  "language_info": {
   "codemirror_mode": {
    "name": "ipython",
    "version": 3
   },
   "file_extension": ".py",
   "mimetype": "text/x-python",
   "name": "python",
   "nbconvert_exporter": "python",
   "pygments_lexer": "ipython3",
   "version": "3.8.8"
  }
 },
 "nbformat": 4,
 "nbformat_minor": 5
}
