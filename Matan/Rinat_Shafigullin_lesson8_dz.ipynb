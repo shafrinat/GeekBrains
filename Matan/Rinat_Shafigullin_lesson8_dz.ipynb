{
 "cells": [
  {
   "cell_type": "markdown",
   "id": "dd4fde33",
   "metadata": {},
   "source": [
    "### Домашнее задание к уроку 8"
   ]
  },
  {
   "cell_type": "markdown",
   "id": "c69a028e",
   "metadata": {},
   "source": [
    "##### «Производные функций нескольких переменных»"
   ]
  },
  {
   "cell_type": "markdown",
   "id": "2687d0a9",
   "metadata": {},
   "source": [
    "1. Найти область определения функции\n",
    "$$z=\\sqrt{1-x^3}+\\ln{(y^2-1)}$$\n",
    "На область определения функции z накладываются следующие ограничения - подкоренное выражение должно быть больше или равным 0, а подлогарифменое выражение должно быть больше 0. Таким образом надо решить два неравенства:\n",
    "$$\\begin{cases}\n",
    "1-x^3\\geq0,\\\\\n",
    "y^2-1>0;\n",
    "\\end{cases}\n",
    "\\begin{cases}\n",
    "x^3\\leq1,\\\\\n",
    "y^2>1;\n",
    "\\end{cases}\n",
    "\\begin{cases}\n",
    "x\\in(-\\infty;1],\\\\\n",
    "y\\in(-\\infty;-1)\\cup(1;+\\infty).\n",
    "\\end{cases}\n",
    "$$\n",
    "Таким образом, область определения функции z:\n",
    "$$x\\in(-\\infty;1],\\\\\n",
    "y\\in(-\\infty;-1)\\cup(1;+\\infty)$$"
   ]
  },
  {
   "cell_type": "markdown",
   "id": "45f36e4b",
   "metadata": {},
   "source": [
    " 2. Найти производные 1-го порядка функции\n",
    " $$z=\\left(1+\\frac{\\ln x}{\\ln y}\\right)^3$$\n",
    " Вначале найдем частную производную по х. Для этого \"замоорозим\" у, представим, что у - константа.\n",
    " $$z'_x=\\left ( \\left (1+\\frac{\\ln x}{\\ln y}\\right)^3\\right)'=3\\left (1+\\frac{\\ln x}{\\ln y}\\right)^2\\cdot \\left (1+\\frac{\\ln x}{\\ln y}\\right)'_x=3\\left (1+\\frac{\\ln x}{\\ln y}\\right)^2\\cdot\\frac{1}{x\\ln y}$$\n",
    " Теперь найдем частую производную по у, \"замораживаем\" х.\n",
    " $$z'_y=\\left ( \\left (1+\\frac{\\ln x}{\\ln y}\\right)^3\\right)'=3\\left (1+\\frac{\\ln x}{\\ln y}\\right)^2\\cdot\\left (1+\\frac{\\ln x}{\\ln y}\\right)'_y=-3\\left (1+\\frac{\\ln x}{\\ln y}\\right)^2\\cdot\\frac{\\ln x}{(\\ln y)^2}$$"
   ]
  },
  {
   "cell_type": "markdown",
   "id": "5472ccc8",
   "metadata": {},
   "source": [
    "3.  Найти полный дифференциал функции в точке (1;1)\n",
    "$$z=\\sqrt{2xy+\\cos\\frac{x}{y}}$$\n",
    "Для вычисления полного дифференциала функции в точке, для начала нужно найти частные производные.\n",
    "$$\\frac{\\partial z}{\\partial x}=\\frac{1}{2\\sqrt{2xy+\\cos\\frac{x}{y}}}\\cdot\\left(2y-\\frac{1}{y}\\sin\\frac{x}{y}\\right)$$\n",
    "$$\\frac{\\partial z}{\\partial y}=\\frac{1}{2\\sqrt{2xy+\\cos\\frac{x}{y}}}\\cdot\\left(2x+\\frac{x\\sin\\frac{x}{y}}{y^2}\\right)$$\n",
    "Полный дифференциал вычисляется по формуле:\n",
    "$$dz=\\frac{\\partial z}{\\partial x}dx+\\frac{\\partial z}{\\partial y}dy$$\n",
    "Посчитаем полный дифференциал для нашего случая, подставив точку (1;1):\n",
    "$$dz=\\frac{1}{2\\sqrt{2xy+\\cos\\frac{x}{y}}}\\cdot\\left(2y-\\frac{1}{y}\\sin\\frac{x}{y}\\right)dx+\\frac{1}{2\\sqrt{2xy+\\cos\\frac{x}{y}}}\\cdot\\left(2x+\\frac{x\\sin\\frac{x}{y}}{y^2}\\right)dy=\\frac{1}{2\\sqrt{2\\cdot1\\cdot1+\\cos\\frac{1}{1}}}\\cdot\\left(2\\cdot1-\\frac{1}{1}\\sin\\frac{1}{1}\\right)dx+\\frac{1}{2\\sqrt{2\\cdot1\\cdot1+\\cos\\frac{1}{1}}}\\cdot\\left(2\\cdot1+\\frac{1\\cdot\\sin\\frac{1}{1}}{1^2}\\right)dy=\\frac{2-\\sin1}{2\\sqrt{2+\\cos1}}dx+\\frac{2+\\sin1}{2\\sqrt{2+\\cos1}}dy$$"
   ]
  },
  {
   "cell_type": "markdown",
   "id": "ebbce055",
   "metadata": {},
   "source": [
    "4. Исследовать на экстремум функцию\n",
    "$$z=x^2+xy+y^2-6x-9y$$\n",
    "Первым шагом надо проверить выполнение необходимого условия экстремума: частные производные равны 0 или не существуют.<br>\n",
    "Найдем частные производные (функция довольно-таки простая, поэтому не буду описывать подробно):\n",
    "$$z'_x=2x+y-6$$\n",
    "$$z'_y=2y+x-9$$\n",
    "Производные представлены линейными функциями, каких-либо ограничений на область определения они не несут, значит производные существуют в любой точке. Для нахождения стационарных точек решим систему уравнений:\n",
    "$$\\begin{cases}\n",
    "2x+y-6=0,\\\\\n",
    "2y+x-9=0;\n",
    "\\end{cases}\n",
    "\\begin{cases}\n",
    "y=6-2x,\\\\\n",
    "2\\cdot(6-2x)+x-9=0;\n",
    "\\end{cases}$$\n",
    "$$12-3x=9\\\\\n",
    "3x=3\\\\\n",
    "x=1\\\\\n",
    "y=4$$\n",
    "Точка М, с координатами (1;4) является критической.<br>\n",
    "Для проверки достаточного условия через критерий Сильвестра найдем вторые частные производные функции:\n",
    "$$z''_{xx}=2\\\\\n",
    "z''_{xy}=1\\\\\n",
    "z''_{yy}=2\\\\\n",
    "z''_{yx}=1$$\n",
    "Построим матрицу Гёссе:\n",
    "$$\\left[\n",
    " \\begin{matrix}\n",
    "  2 & 1 \\\\\n",
    "  1 & 2 \\\\\n",
    " \\end{matrix}\n",
    "\\right]$$\n",
    "Посчитаем определитель: $$\\Delta=2\\cdot2-1\\cdot1=3>0,$$\n",
    "Определитель больше нуля, значит экстремум существует. Элемент матрицы а11>0, значит это минимум.<br>\n",
    "Итог: заданная функция\n",
    "$$z=x^2+xy+y^2-6x-9y$$\n",
    "имеет минимум в точке М с координатами (1;4), равный z=-21."
   ]
  }
 ],
 "metadata": {
  "kernelspec": {
   "display_name": "Python 3",
   "language": "python",
   "name": "python3"
  },
  "language_info": {
   "codemirror_mode": {
    "name": "ipython",
    "version": 3
   },
   "file_extension": ".py",
   "mimetype": "text/x-python",
   "name": "python",
   "nbconvert_exporter": "python",
   "pygments_lexer": "ipython3",
   "version": "3.8.8"
  }
 },
 "nbformat": 4,
 "nbformat_minor": 5
}
