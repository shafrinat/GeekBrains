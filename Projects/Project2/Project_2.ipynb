{
 "cells": [
  {
   "cell_type": "markdown",
   "id": "1a70bdd6",
   "metadata": {},
   "source": [
    "### Курсовой проект"
   ]
  },
  {
   "cell_type": "markdown",
   "id": "bd512f15",
   "metadata": {},
   "source": [
    "##### Задача\n",
    "\n",
    "Требуется, на основании имеющихся данных о клиентах банка, построить модель, используя обучающий датасет, для прогнозирования невыполнения долговых обязательств по текущему кредиту. Выполнить прогноз для примеров из тестового датасета."
   ]
  },
  {
   "cell_type": "markdown",
   "id": "b9ddbfd5",
   "metadata": {},
   "source": [
    "**Описание датасета**\n",
    "\n",
    "* **Home Ownership** - домовладение\n",
    "* **Annual Income** - годовой доход\n",
    "* **Years in current job** - количество лет на текущем месте работы\n",
    "* **Tax Liens** - налоговые обременения\n",
    "* **Number of Open Accounts** - количество открытых счетов\n",
    "* **Years of Credit History** - количество лет кредитной истории\n",
    "* **Maximum Open Credit** - наибольший открытый кредит\n",
    "* **Number of Credit Problems** - количество проблем с кредитом\n",
    "* **Months since last delinquent** - количество месяцев с последней просрочки платежа\n",
    "* **Bankruptcies** - банкротства\n",
    "* **Purpose** - цель кредита\n",
    "* **Term** - срок кредита\n",
    "* **Current Loan Amount** - текущая сумма кредита\n",
    "* **Current Credit Balance** - текущий кредитный баланс\n",
    "* **Monthly Debt** - ежемесячный долг\n",
    "* **Credit Score** - кредитный рейтинг\n",
    "* **Credit Default** - факт невыполнения кредитных обязательств (0 - погашен вовремя, 1 - просрочка)"
   ]
  },
  {
   "cell_type": "code",
   "execution_count": 95,
   "id": "0ffbc0f1",
   "metadata": {},
   "outputs": [],
   "source": [
    "# Подключаем библиотеки и модули\n",
    "\n",
    "import numpy as np\n",
    "import pandas as pd\n",
    "import seaborn as sns\n",
    "import matplotlib.pyplot as plt\n",
    "%matplotlib inline\n",
    "\n",
    "from sklearn.linear_model import LinearRegression\n",
    "from sklearn.model_selection import train_test_split\n",
    "from sklearn.metrics import classification_report, f1_score, precision_score, recall_score\n",
    "from sklearn.metrics import confusion_matrix\n",
    "from sklearn.metrics import roc_curve\n",
    "\n",
    "import xgboost as xgb\n",
    "import lightgbm as lgbm\n",
    "import catboost as catb"
   ]
  },
  {
   "cell_type": "code",
   "execution_count": 200,
   "id": "d20c3a2d",
   "metadata": {},
   "outputs": [],
   "source": [
    "# Пути к исходным данным\n",
    "TRAIN_DATASET_PATH = './input/bank_client_default_prediction/course_project_train.csv'\n",
    "TEST_DATASET_PATH = './input/bank_client_default_prediction/course_project_test.csv'\n",
    "\n",
    "# результат здесь\n",
    "SUBMIT_DATASET_PATH = './input/bank_client_default_prediction/sample_submission.csv'"
   ]
  },
  {
   "cell_type": "code",
   "execution_count": 97,
   "id": "333f1a71",
   "metadata": {},
   "outputs": [],
   "source": [
    "# Функция балансировки данных по значениям целевого класса методом oversampling\n",
    "def balance_df_by_target(df, target_name):\n",
    "\n",
    "    target_counts = df[target_name].value_counts()\n",
    "\n",
    "    major_class_name = target_counts.argmax()\n",
    "    minor_class_name = target_counts.argmin()\n",
    "\n",
    "    disbalance_coeff = int(target_counts[major_class_name] / target_counts[minor_class_name]) - 1\n",
    "\n",
    "    for i in range(disbalance_coeff):\n",
    "        sample = df[df[target_name] == minor_class_name].sample(target_counts[minor_class_name])\n",
    "        df = df.append(sample, ignore_index=True)\n",
    "\n",
    "    return df.sample(frac=1) "
   ]
  },
  {
   "cell_type": "code",
   "execution_count": 99,
   "id": "70788664",
   "metadata": {},
   "outputs": [
    {
     "data": {
      "text/html": [
       "<div>\n",
       "<style scoped>\n",
       "    .dataframe tbody tr th:only-of-type {\n",
       "        vertical-align: middle;\n",
       "    }\n",
       "\n",
       "    .dataframe tbody tr th {\n",
       "        vertical-align: top;\n",
       "    }\n",
       "\n",
       "    .dataframe thead th {\n",
       "        text-align: right;\n",
       "    }\n",
       "</style>\n",
       "<table border=\"1\" class=\"dataframe\">\n",
       "  <thead>\n",
       "    <tr style=\"text-align: right;\">\n",
       "      <th></th>\n",
       "      <th>Home Ownership</th>\n",
       "      <th>Annual Income</th>\n",
       "      <th>Years in current job</th>\n",
       "      <th>Tax Liens</th>\n",
       "      <th>Number of Open Accounts</th>\n",
       "      <th>Years of Credit History</th>\n",
       "      <th>Maximum Open Credit</th>\n",
       "      <th>Number of Credit Problems</th>\n",
       "      <th>Months since last delinquent</th>\n",
       "      <th>Bankruptcies</th>\n",
       "      <th>Purpose</th>\n",
       "      <th>Term</th>\n",
       "      <th>Current Loan Amount</th>\n",
       "      <th>Current Credit Balance</th>\n",
       "      <th>Monthly Debt</th>\n",
       "      <th>Credit Score</th>\n",
       "      <th>Credit Default</th>\n",
       "    </tr>\n",
       "  </thead>\n",
       "  <tbody>\n",
       "    <tr>\n",
       "      <th>0</th>\n",
       "      <td>Own Home</td>\n",
       "      <td>482087.0</td>\n",
       "      <td>NaN</td>\n",
       "      <td>0.0</td>\n",
       "      <td>11.0</td>\n",
       "      <td>26.3</td>\n",
       "      <td>685960.0</td>\n",
       "      <td>1.0</td>\n",
       "      <td>NaN</td>\n",
       "      <td>1.0</td>\n",
       "      <td>debt consolidation</td>\n",
       "      <td>Short Term</td>\n",
       "      <td>99999999.0</td>\n",
       "      <td>47386.0</td>\n",
       "      <td>7914.0</td>\n",
       "      <td>749.0</td>\n",
       "      <td>0</td>\n",
       "    </tr>\n",
       "    <tr>\n",
       "      <th>1</th>\n",
       "      <td>Own Home</td>\n",
       "      <td>1025487.0</td>\n",
       "      <td>10+ years</td>\n",
       "      <td>0.0</td>\n",
       "      <td>15.0</td>\n",
       "      <td>15.3</td>\n",
       "      <td>1181730.0</td>\n",
       "      <td>0.0</td>\n",
       "      <td>NaN</td>\n",
       "      <td>0.0</td>\n",
       "      <td>debt consolidation</td>\n",
       "      <td>Long Term</td>\n",
       "      <td>264968.0</td>\n",
       "      <td>394972.0</td>\n",
       "      <td>18373.0</td>\n",
       "      <td>737.0</td>\n",
       "      <td>1</td>\n",
       "    </tr>\n",
       "    <tr>\n",
       "      <th>2</th>\n",
       "      <td>Home Mortgage</td>\n",
       "      <td>751412.0</td>\n",
       "      <td>8 years</td>\n",
       "      <td>0.0</td>\n",
       "      <td>11.0</td>\n",
       "      <td>35.0</td>\n",
       "      <td>1182434.0</td>\n",
       "      <td>0.0</td>\n",
       "      <td>NaN</td>\n",
       "      <td>0.0</td>\n",
       "      <td>debt consolidation</td>\n",
       "      <td>Short Term</td>\n",
       "      <td>99999999.0</td>\n",
       "      <td>308389.0</td>\n",
       "      <td>13651.0</td>\n",
       "      <td>742.0</td>\n",
       "      <td>0</td>\n",
       "    </tr>\n",
       "    <tr>\n",
       "      <th>3</th>\n",
       "      <td>Own Home</td>\n",
       "      <td>805068.0</td>\n",
       "      <td>6 years</td>\n",
       "      <td>0.0</td>\n",
       "      <td>8.0</td>\n",
       "      <td>22.5</td>\n",
       "      <td>147400.0</td>\n",
       "      <td>1.0</td>\n",
       "      <td>NaN</td>\n",
       "      <td>1.0</td>\n",
       "      <td>debt consolidation</td>\n",
       "      <td>Short Term</td>\n",
       "      <td>121396.0</td>\n",
       "      <td>95855.0</td>\n",
       "      <td>11338.0</td>\n",
       "      <td>694.0</td>\n",
       "      <td>0</td>\n",
       "    </tr>\n",
       "    <tr>\n",
       "      <th>4</th>\n",
       "      <td>Rent</td>\n",
       "      <td>776264.0</td>\n",
       "      <td>8 years</td>\n",
       "      <td>0.0</td>\n",
       "      <td>13.0</td>\n",
       "      <td>13.6</td>\n",
       "      <td>385836.0</td>\n",
       "      <td>1.0</td>\n",
       "      <td>NaN</td>\n",
       "      <td>0.0</td>\n",
       "      <td>debt consolidation</td>\n",
       "      <td>Short Term</td>\n",
       "      <td>125840.0</td>\n",
       "      <td>93309.0</td>\n",
       "      <td>7180.0</td>\n",
       "      <td>719.0</td>\n",
       "      <td>0</td>\n",
       "    </tr>\n",
       "  </tbody>\n",
       "</table>\n",
       "</div>"
      ],
      "text/plain": [
       "  Home Ownership  Annual Income Years in current job  Tax Liens  \\\n",
       "0       Own Home       482087.0                  NaN        0.0   \n",
       "1       Own Home      1025487.0            10+ years        0.0   \n",
       "2  Home Mortgage       751412.0              8 years        0.0   \n",
       "3       Own Home       805068.0              6 years        0.0   \n",
       "4           Rent       776264.0              8 years        0.0   \n",
       "\n",
       "   Number of Open Accounts  Years of Credit History  Maximum Open Credit  \\\n",
       "0                     11.0                     26.3             685960.0   \n",
       "1                     15.0                     15.3            1181730.0   \n",
       "2                     11.0                     35.0            1182434.0   \n",
       "3                      8.0                     22.5             147400.0   \n",
       "4                     13.0                     13.6             385836.0   \n",
       "\n",
       "   Number of Credit Problems  Months since last delinquent  Bankruptcies  \\\n",
       "0                        1.0                           NaN           1.0   \n",
       "1                        0.0                           NaN           0.0   \n",
       "2                        0.0                           NaN           0.0   \n",
       "3                        1.0                           NaN           1.0   \n",
       "4                        1.0                           NaN           0.0   \n",
       "\n",
       "              Purpose        Term  Current Loan Amount  \\\n",
       "0  debt consolidation  Short Term           99999999.0   \n",
       "1  debt consolidation   Long Term             264968.0   \n",
       "2  debt consolidation  Short Term           99999999.0   \n",
       "3  debt consolidation  Short Term             121396.0   \n",
       "4  debt consolidation  Short Term             125840.0   \n",
       "\n",
       "   Current Credit Balance  Monthly Debt  Credit Score  Credit Default  \n",
       "0                 47386.0        7914.0         749.0               0  \n",
       "1                394972.0       18373.0         737.0               1  \n",
       "2                308389.0       13651.0         742.0               0  \n",
       "3                 95855.0       11338.0         694.0               0  \n",
       "4                 93309.0        7180.0         719.0               0  "
      ]
     },
     "execution_count": 99,
     "metadata": {},
     "output_type": "execute_result"
    }
   ],
   "source": [
    "# Создаем тренировочный датафрейм из csv файла\n",
    "df_train = pd.read_csv(TRAIN_DATASET_PATH)\n",
    "df_train.head()"
   ]
  },
  {
   "cell_type": "code",
   "execution_count": 190,
   "id": "6616c4d7",
   "metadata": {},
   "outputs": [
    {
     "data": {
      "text/html": [
       "<div>\n",
       "<style scoped>\n",
       "    .dataframe tbody tr th:only-of-type {\n",
       "        vertical-align: middle;\n",
       "    }\n",
       "\n",
       "    .dataframe tbody tr th {\n",
       "        vertical-align: top;\n",
       "    }\n",
       "\n",
       "    .dataframe thead th {\n",
       "        text-align: right;\n",
       "    }\n",
       "</style>\n",
       "<table border=\"1\" class=\"dataframe\">\n",
       "  <thead>\n",
       "    <tr style=\"text-align: right;\">\n",
       "      <th></th>\n",
       "      <th>Home Ownership</th>\n",
       "      <th>Annual Income</th>\n",
       "      <th>Years in current job</th>\n",
       "      <th>Tax Liens</th>\n",
       "      <th>Number of Open Accounts</th>\n",
       "      <th>Years of Credit History</th>\n",
       "      <th>Maximum Open Credit</th>\n",
       "      <th>Number of Credit Problems</th>\n",
       "      <th>Months since last delinquent</th>\n",
       "      <th>Bankruptcies</th>\n",
       "      <th>Purpose</th>\n",
       "      <th>Term</th>\n",
       "      <th>Current Loan Amount</th>\n",
       "      <th>Current Credit Balance</th>\n",
       "      <th>Monthly Debt</th>\n",
       "      <th>Credit Score</th>\n",
       "    </tr>\n",
       "  </thead>\n",
       "  <tbody>\n",
       "    <tr>\n",
       "      <th>0</th>\n",
       "      <td>Rent</td>\n",
       "      <td>NaN</td>\n",
       "      <td>4 years</td>\n",
       "      <td>0.0</td>\n",
       "      <td>9.0</td>\n",
       "      <td>12.5</td>\n",
       "      <td>220968.0</td>\n",
       "      <td>0.0</td>\n",
       "      <td>70.0</td>\n",
       "      <td>0.0</td>\n",
       "      <td>debt consolidation</td>\n",
       "      <td>Short Term</td>\n",
       "      <td>162470.0</td>\n",
       "      <td>105906.0</td>\n",
       "      <td>6813.0</td>\n",
       "      <td>NaN</td>\n",
       "    </tr>\n",
       "    <tr>\n",
       "      <th>1</th>\n",
       "      <td>Rent</td>\n",
       "      <td>231838.0</td>\n",
       "      <td>1 year</td>\n",
       "      <td>0.0</td>\n",
       "      <td>6.0</td>\n",
       "      <td>32.7</td>\n",
       "      <td>55946.0</td>\n",
       "      <td>0.0</td>\n",
       "      <td>8.0</td>\n",
       "      <td>0.0</td>\n",
       "      <td>educational expenses</td>\n",
       "      <td>Short Term</td>\n",
       "      <td>78298.0</td>\n",
       "      <td>46037.0</td>\n",
       "      <td>2318.0</td>\n",
       "      <td>699.0</td>\n",
       "    </tr>\n",
       "    <tr>\n",
       "      <th>2</th>\n",
       "      <td>Home Mortgage</td>\n",
       "      <td>1152540.0</td>\n",
       "      <td>3 years</td>\n",
       "      <td>0.0</td>\n",
       "      <td>10.0</td>\n",
       "      <td>13.7</td>\n",
       "      <td>204600.0</td>\n",
       "      <td>0.0</td>\n",
       "      <td>NaN</td>\n",
       "      <td>0.0</td>\n",
       "      <td>debt consolidation</td>\n",
       "      <td>Short Term</td>\n",
       "      <td>200178.0</td>\n",
       "      <td>146490.0</td>\n",
       "      <td>18729.0</td>\n",
       "      <td>7260.0</td>\n",
       "    </tr>\n",
       "    <tr>\n",
       "      <th>3</th>\n",
       "      <td>Home Mortgage</td>\n",
       "      <td>1220313.0</td>\n",
       "      <td>10+ years</td>\n",
       "      <td>0.0</td>\n",
       "      <td>16.0</td>\n",
       "      <td>17.0</td>\n",
       "      <td>456302.0</td>\n",
       "      <td>0.0</td>\n",
       "      <td>70.0</td>\n",
       "      <td>0.0</td>\n",
       "      <td>debt consolidation</td>\n",
       "      <td>Short Term</td>\n",
       "      <td>217382.0</td>\n",
       "      <td>213199.0</td>\n",
       "      <td>27559.0</td>\n",
       "      <td>739.0</td>\n",
       "    </tr>\n",
       "    <tr>\n",
       "      <th>4</th>\n",
       "      <td>Home Mortgage</td>\n",
       "      <td>2340952.0</td>\n",
       "      <td>6 years</td>\n",
       "      <td>0.0</td>\n",
       "      <td>11.0</td>\n",
       "      <td>23.6</td>\n",
       "      <td>1207272.0</td>\n",
       "      <td>0.0</td>\n",
       "      <td>NaN</td>\n",
       "      <td>0.0</td>\n",
       "      <td>debt consolidation</td>\n",
       "      <td>Long Term</td>\n",
       "      <td>777634.0</td>\n",
       "      <td>425391.0</td>\n",
       "      <td>42605.0</td>\n",
       "      <td>706.0</td>\n",
       "    </tr>\n",
       "  </tbody>\n",
       "</table>\n",
       "</div>"
      ],
      "text/plain": [
       "  Home Ownership  Annual Income Years in current job  Tax Liens  \\\n",
       "0           Rent            NaN              4 years        0.0   \n",
       "1           Rent       231838.0               1 year        0.0   \n",
       "2  Home Mortgage      1152540.0              3 years        0.0   \n",
       "3  Home Mortgage      1220313.0            10+ years        0.0   \n",
       "4  Home Mortgage      2340952.0              6 years        0.0   \n",
       "\n",
       "   Number of Open Accounts  Years of Credit History  Maximum Open Credit  \\\n",
       "0                      9.0                     12.5             220968.0   \n",
       "1                      6.0                     32.7              55946.0   \n",
       "2                     10.0                     13.7             204600.0   \n",
       "3                     16.0                     17.0             456302.0   \n",
       "4                     11.0                     23.6            1207272.0   \n",
       "\n",
       "   Number of Credit Problems  Months since last delinquent  Bankruptcies  \\\n",
       "0                        0.0                          70.0           0.0   \n",
       "1                        0.0                           8.0           0.0   \n",
       "2                        0.0                           NaN           0.0   \n",
       "3                        0.0                          70.0           0.0   \n",
       "4                        0.0                           NaN           0.0   \n",
       "\n",
       "                Purpose        Term  Current Loan Amount  \\\n",
       "0    debt consolidation  Short Term             162470.0   \n",
       "1  educational expenses  Short Term              78298.0   \n",
       "2    debt consolidation  Short Term             200178.0   \n",
       "3    debt consolidation  Short Term             217382.0   \n",
       "4    debt consolidation   Long Term             777634.0   \n",
       "\n",
       "   Current Credit Balance  Monthly Debt  Credit Score  \n",
       "0                105906.0        6813.0           NaN  \n",
       "1                 46037.0        2318.0         699.0  \n",
       "2                146490.0       18729.0        7260.0  \n",
       "3                213199.0       27559.0         739.0  \n",
       "4                425391.0       42605.0         706.0  "
      ]
     },
     "execution_count": 190,
     "metadata": {},
     "output_type": "execute_result"
    }
   ],
   "source": [
    "# Создаем тестовый датафрейм из csv файла\n",
    "df_test = pd.read_csv(TEST_DATASET_PATH)\n",
    "df_test.head()"
   ]
  },
  {
   "cell_type": "markdown",
   "id": "4e5d1a44",
   "metadata": {},
   "source": [
    "# EDA"
   ]
  },
  {
   "cell_type": "code",
   "execution_count": 101,
   "id": "8a2e5932",
   "metadata": {},
   "outputs": [
    {
     "data": {
      "text/plain": [
       "(7500, 17)"
      ]
     },
     "execution_count": 101,
     "metadata": {},
     "output_type": "execute_result"
    }
   ],
   "source": [
    "# Размер тренировочной выборки\n",
    "df_train.shape"
   ]
  },
  {
   "cell_type": "code",
   "execution_count": 102,
   "id": "677587bb",
   "metadata": {},
   "outputs": [
    {
     "data": {
      "text/plain": [
       "(2500, 16)"
      ]
     },
     "execution_count": 102,
     "metadata": {},
     "output_type": "execute_result"
    }
   ],
   "source": [
    "# Размер тренировочной выборки\n",
    "df_test.shape"
   ]
  },
  {
   "cell_type": "code",
   "execution_count": 103,
   "id": "eb417889",
   "metadata": {},
   "outputs": [
    {
     "data": {
      "text/plain": [
       "0    5387\n",
       "1    2113\n",
       "Name: Credit Default, dtype: int64"
      ]
     },
     "execution_count": 103,
     "metadata": {},
     "output_type": "execute_result"
    }
   ],
   "source": [
    "# Количество значений целевого класса\n",
    "df_train['Credit Default'].value_counts()"
   ]
  },
  {
   "cell_type": "code",
   "execution_count": 104,
   "id": "d9f6650c",
   "metadata": {},
   "outputs": [
    {
     "data": {
      "text/plain": [
       "Text(0.5, 0, 'Credit Default')"
      ]
     },
     "execution_count": 104,
     "metadata": {},
     "output_type": "execute_result"
    },
    {
     "data": {
      "image/png": "[encoded data removed]",
      "text/plain": [
       "<Figure size 432x288 with 1 Axes>"
      ]
     },
     "metadata": {
      "needs_background": "light"
     },
     "output_type": "display_data"
    }
   ],
   "source": [
    "# Гистограмма распределения целевого класса\n",
    "df_train['Credit Default'].hist(bins=2)\n",
    "plt.ylabel('Count')\n",
    "plt.xlabel('Credit Default')"
   ]
  },
  {
   "cell_type": "markdown",
   "id": "c6c34690",
   "metadata": {},
   "source": [
    "Как видно, значения целевого класса несбалансированы"
   ]
  },
  {
   "cell_type": "markdown",
   "id": "a1505d39",
   "metadata": {},
   "source": [
    "### Работа с пропусками"
   ]
  },
  {
   "cell_type": "code",
   "execution_count": 105,
   "id": "fbb8dbf8",
   "metadata": {},
   "outputs": [],
   "source": [
    "# Выводим параметры с пропусками\n",
    "def missins_values(df):\n",
    "    cols_miss_feats = [ col for col in df.columns if df[col].count() < df.shape[0] ]\n",
    "    return cols_miss_feats"
   ]
  },
  {
   "cell_type": "code",
   "execution_count": 106,
   "id": "17de4c92",
   "metadata": {},
   "outputs": [
    {
     "name": "stdout",
     "output_type": "stream",
     "text": [
      "['Annual Income', 'Years in current job', 'Months since last delinquent', 'Bankruptcies', 'Credit Score']\n",
      "['Annual Income', 'Years in current job', 'Months since last delinquent', 'Bankruptcies', 'Credit Score']\n"
     ]
    }
   ],
   "source": [
    "print(missins_values(df_train))\n",
    "print(missins_values(df_test))"
   ]
  },
  {
   "cell_type": "markdown",
   "id": "98028d45",
   "metadata": {},
   "source": [
    "Видим пропуски в аналогичных параметрах тренировочного и тестового набора"
   ]
  },
  {
   "cell_type": "code",
   "execution_count": 107,
   "id": "2cae6a87",
   "metadata": {
    "scrolled": true
   },
   "outputs": [
    {
     "name": "stdout",
     "output_type": "stream",
     "text": [
      "<class 'pandas.core.frame.DataFrame'>\n",
      "RangeIndex: 7500 entries, 0 to 7499\n",
      "Data columns (total 17 columns):\n",
      " #   Column                        Non-Null Count  Dtype  \n",
      "---  ------                        --------------  -----  \n",
      " 0   Home Ownership                7500 non-null   object \n",
      " 1   Annual Income                 5943 non-null   float64\n",
      " 2   Years in current job          7129 non-null   object \n",
      " 3   Tax Liens                     7500 non-null   float64\n",
      " 4   Number of Open Accounts       7500 non-null   float64\n",
      " 5   Years of Credit History       7500 non-null   float64\n",
      " 6   Maximum Open Credit           7500 non-null   float64\n",
      " 7   Number of Credit Problems     7500 non-null   float64\n",
      " 8   Months since last delinquent  3419 non-null   float64\n",
      " 9   Bankruptcies                  7486 non-null   float64\n",
      " 10  Purpose                       7500 non-null   object \n",
      " 11  Term                          7500 non-null   object \n",
      " 12  Current Loan Amount           7500 non-null   float64\n",
      " 13  Current Credit Balance        7500 non-null   float64\n",
      " 14  Monthly Debt                  7500 non-null   float64\n",
      " 15  Credit Score                  5943 non-null   float64\n",
      " 16  Credit Default                7500 non-null   int64  \n",
      "dtypes: float64(12), int64(1), object(4)\n",
      "memory usage: 996.2+ KB\n"
     ]
    }
   ],
   "source": [
    "# Обзор параметров тренировочного датасета\n",
    "df_train.info()"
   ]
  },
  {
   "cell_type": "code",
   "execution_count": 108,
   "id": "0dac8fe3",
   "metadata": {},
   "outputs": [
    {
     "name": "stdout",
     "output_type": "stream",
     "text": [
      "<class 'pandas.core.frame.DataFrame'>\n",
      "RangeIndex: 2500 entries, 0 to 2499\n",
      "Data columns (total 16 columns):\n",
      " #   Column                        Non-Null Count  Dtype  \n",
      "---  ------                        --------------  -----  \n",
      " 0   Home Ownership                2500 non-null   object \n",
      " 1   Annual Income                 1987 non-null   float64\n",
      " 2   Years in current job          2414 non-null   object \n",
      " 3   Tax Liens                     2500 non-null   float64\n",
      " 4   Number of Open Accounts       2500 non-null   float64\n",
      " 5   Years of Credit History       2500 non-null   float64\n",
      " 6   Maximum Open Credit           2500 non-null   float64\n",
      " 7   Number of Credit Problems     2500 non-null   float64\n",
      " 8   Months since last delinquent  1142 non-null   float64\n",
      " 9   Bankruptcies                  2497 non-null   float64\n",
      " 10  Purpose                       2500 non-null   object \n",
      " 11  Term                          2500 non-null   object \n",
      " 12  Current Loan Amount           2500 non-null   float64\n",
      " 13  Current Credit Balance        2500 non-null   float64\n",
      " 14  Monthly Debt                  2500 non-null   float64\n",
      " 15  Credit Score                  1987 non-null   float64\n",
      "dtypes: float64(12), object(4)\n",
      "memory usage: 312.6+ KB\n"
     ]
    }
   ],
   "source": [
    "# Обзор параметров тестового датасета\n",
    "df_test.info()"
   ]
  },
  {
   "cell_type": "markdown",
   "id": "a3613f28",
   "metadata": {},
   "source": [
    "<b>Интересное наблюдение:</b> количество пропусков в признаках Annual Income и Credit Score одинаковое."
   ]
  },
  {
   "cell_type": "markdown",
   "id": "ee14a184",
   "metadata": {},
   "source": [
    "<b>Интересное наблюдение:</b> процентное соотношение пропусков в тренировочном и тестовом датасетах приблизительно одинаковое. Возможно, это предусмотрено заданием курсового проекта"
   ]
  },
  {
   "cell_type": "code",
   "execution_count": 109,
   "id": "ae9d3c8f",
   "metadata": {},
   "outputs": [
    {
     "name": "stdout",
     "output_type": "stream",
     "text": [
      "5943\n"
     ]
    }
   ],
   "source": [
    "# Анализируем, соответствуют ли пропуски Annual Income и Credit Score\n",
    "df = df_train.loc[(df_train['Annual Income'].isna()) & (df_train['Credit Score'].isna())]\n",
    "print(df_train.shape[0] - df.shape[0])"
   ]
  },
  {
   "cell_type": "markdown",
   "id": "4834b10a",
   "metadata": {},
   "source": [
    "Как видно, пропуски в Annual Income и Credit Score соответствуют одним и тем же объектам. Вывод - Credit Score пропущен, так как не указан Annual Income."
   ]
  },
  {
   "cell_type": "markdown",
   "id": "afd1f5e7",
   "metadata": {},
   "source": [
    "##### Матрица корреляции признаков"
   ]
  },
  {
   "cell_type": "code",
   "execution_count": 110,
   "id": "b067db11",
   "metadata": {},
   "outputs": [
    {
     "data": {
      "text/plain": [
       "<AxesSubplot:>"
      ]
     },
     "execution_count": 110,
     "metadata": {},
     "output_type": "execute_result"
    },
    {
     "data": {
      "image/png": "[encoded data removed]",
      "text/plain": [
       "<Figure size 720x720 with 2 Axes>"
      ]
     },
     "metadata": {
      "needs_background": "light"
     },
     "output_type": "display_data"
    }
   ],
   "source": [
    "# Строим матрицу корреляций признаков тренировочного датасета\n",
    "cor_matrix = np.round(df_train.corr(), 2)   # Округление до 2х знаков после запятой\n",
    "\n",
    "plt.figure(figsize = (10,10))\n",
    "sns.set(font_scale=1.3)\n",
    "sns.heatmap(cor_matrix, annot=True, linewidths=.5, cmap='coolwarm')"
   ]
  },
  {
   "cell_type": "markdown",
   "id": "bd1e43ec",
   "metadata": {},
   "source": [
    "Наблюдается хорошая корреляция параметров 'Annual Income' vs 'Monthly Debt', а также 'Bankruptcies' vs 'Number of Credit Problems'. Обучим линейную регрессию для заполнения пропущенных значений."
   ]
  },
  {
   "cell_type": "code",
   "execution_count": 111,
   "id": "875eca4c",
   "metadata": {},
   "outputs": [],
   "source": [
    "# Функция для предсказания пропущенных значений через коррелирующие параметры. Используется модель линейной регрессии.\n",
    "\n",
    "def fillna_by_lr(df, feature, target):\n",
    "    # Отдельный датафрейм для предсказания\n",
    "    df_lr = pd.DataFrame({\n",
    "        feature: df[feature],\n",
    "        target: df[target]\n",
    "    })\n",
    "    \n",
    "    # Удаляем пропуски\n",
    "    df_lr.dropna(inplace=True)\n",
    "    \n",
    "    # Отделяем целевую переменную\n",
    "    X = df_lr.drop(columns=target)\n",
    "    y = df_lr[target]\n",
    "    \n",
    "    # Обучаем линейную модель\n",
    "    lr = LinearRegression()\n",
    "    lr.fit(X, y)\n",
    "    \n",
    "    # Предскажем весь столдец целевого признака\n",
    "    predicted_feature = lr.predict(\n",
    "        pd.DataFrame({feature: df[feature]}))\n",
    "    \n",
    "    # Заполним пропуски предсказаниями\n",
    "    df[target].fillna(pd.Series(predicted_feature), inplace=True)"
   ]
  },
  {
   "cell_type": "code",
   "execution_count": 112,
   "id": "2ded60cf",
   "metadata": {},
   "outputs": [],
   "source": [
    "fillna_by_lr(df_train, 'Monthly Debt', 'Annual Income')\n",
    "fillna_by_lr(df_train, 'Number of Credit Problems', 'Bankruptcies')"
   ]
  },
  {
   "cell_type": "markdown",
   "id": "73551486",
   "metadata": {},
   "source": [
    "##### Распределение параметра Credit Score"
   ]
  },
  {
   "cell_type": "code",
   "execution_count": 113,
   "id": "61815b3f",
   "metadata": {},
   "outputs": [
    {
     "name": "stderr",
     "output_type": "stream",
     "text": [
      "C:\\Users\\LENOVO\\anaconda3\\lib\\site-packages\\seaborn\\distributions.py:2557: FutureWarning: `distplot` is a deprecated function and will be removed in a future version. Please adapt your code to use either `displot` (a figure-level function with similar flexibility) or `kdeplot` (an axes-level function for kernel density plots).\n",
      "  warnings.warn(msg, FutureWarning)\n",
      "C:\\Users\\LENOVO\\anaconda3\\lib\\site-packages\\seaborn\\distributions.py:2557: FutureWarning: `distplot` is a deprecated function and will be removed in a future version. Please adapt your code to use either `displot` (a figure-level function with similar flexibility) or `kdeplot` (an axes-level function for kernel density plots).\n",
      "  warnings.warn(msg, FutureWarning)\n",
      "C:\\Users\\LENOVO\\anaconda3\\lib\\site-packages\\seaborn\\distributions.py:2557: FutureWarning: `distplot` is a deprecated function and will be removed in a future version. Please adapt your code to use either `displot` (a figure-level function with similar flexibility) or `kdeplot` (an axes-level function for kernel density plots).\n",
      "  warnings.warn(msg, FutureWarning)\n",
      "C:\\Users\\LENOVO\\anaconda3\\lib\\site-packages\\seaborn\\distributions.py:2595: RuntimeWarning: Mean of empty slice.\n",
      "  line, = ax.plot(a.mean(), 0)\n",
      "C:\\Users\\LENOVO\\anaconda3\\lib\\site-packages\\numpy\\core\\_methods.py:188: RuntimeWarning: invalid value encountered in double_scalars\n",
      "  ret = ret.dtype.type(ret / rcount)\n",
      "C:\\Users\\LENOVO\\anaconda3\\lib\\site-packages\\seaborn\\distributions.py:2557: FutureWarning: `distplot` is a deprecated function and will be removed in a future version. Please adapt your code to use either `displot` (a figure-level function with similar flexibility) or `kdeplot` (an axes-level function for kernel density plots).\n",
      "  warnings.warn(msg, FutureWarning)\n"
     ]
    },
    {
     "data": {
      "text/plain": [
       "<AxesSubplot:xlabel='Credit Score', ylabel='Density'>"
      ]
     },
     "execution_count": 113,
     "metadata": {},
     "output_type": "execute_result"
    },
    {
     "data": {
      "image/png": "[encoded data removed]",
      "text/plain": [
       "<Figure size 864x360 with 2 Axes>"
      ]
     },
     "metadata": {},
     "output_type": "display_data"
    }
   ],
   "source": [
    "plt.figure(figsize = (12, 5))\n",
    "\n",
    "target_0 = df_train[df_train['Credit Default'] == 0]\n",
    "target_1 = df_train[df_train['Credit Default'] == 1]\n",
    "\n",
    "plt.subplot(121)\n",
    "sns.distplot(target_0.loc[target_0['Credit Score'] < 1000, 'Credit Score'], hist=False,\n",
    "            label='no default', kde_kws=dict(linewidth=3))\n",
    "sns.distplot(target_1.loc[target_1['Credit Score'] < 1000, 'Credit Score'], hist=False, \n",
    "            label='default', kde_kws=dict(linewidth=3))\n",
    "\n",
    "plt.subplot(122)\n",
    "sns.distplot(target_0.loc[target_0['Credit Score'] > 1000, 'Credit Score'], hist=False, \n",
    "            label='no default', kde_kws=dict(linewidth=3))\n",
    "sns.distplot(target_1.loc[target_1['Credit Score'] > 1000, 'Credit Score'], hist=False, \n",
    "            label='default', kde_kws=dict(linewidth=3))"
   ]
  },
  {
   "cell_type": "markdown",
   "id": "aa3378d5",
   "metadata": {},
   "source": [
    "На левом графике представлено распределение параметра 'Credit Score' размером до 1000, на правом более 1000."
   ]
  },
  {
   "cell_type": "code",
   "execution_count": 114,
   "id": "06fb4160",
   "metadata": {},
   "outputs": [
    {
     "name": "stdout",
     "output_type": "stream",
     "text": [
      "732.0\n",
      "730.5\n"
     ]
    }
   ],
   "source": [
    "# Вычисляем медианы параметра 'Credit Score' для разных значений целевой переменной\n",
    "credit_score_median_0 = target_0['Credit Score'].median()\n",
    "credit_score_median_1 = target_1['Credit Score'].median()\n",
    "print(credit_score_median_0)\n",
    "print(credit_score_median_1)"
   ]
  },
  {
   "cell_type": "markdown",
   "id": "3c8be893",
   "metadata": {},
   "source": [
    "Медианы между собой отличаются не сильно, поэтому в тестовом датафрейме можно заполнить общей медианой"
   ]
  },
  {
   "cell_type": "code",
   "execution_count": 116,
   "id": "9c487896",
   "metadata": {},
   "outputs": [],
   "source": [
    "# Заполняем пропуски в 'Credit Score' соответствующими медианами\n",
    "condition_0 = (df_train['Credit Score'].isna()) & (df_train['Credit Default'] == 0)\n",
    "condition_1 = (df_train['Credit Score'].isna()) & (df_train['Credit Default'] == 1)\n",
    "df_train.loc[condition_0, 'Credit Score'] = credit_score_median_0\n",
    "df_train.loc[condition_1, 'Credit Score'] = credit_score_median_1"
   ]
  },
  {
   "cell_type": "markdown",
   "id": "3f8073ff",
   "metadata": {},
   "source": [
    "##### 'Years in current job'"
   ]
  },
  {
   "cell_type": "markdown",
   "id": "16d6bbe4",
   "metadata": {},
   "source": [
    "Будем считать, что пропуски в данном параметре означают, что клиент не трудоустроен. Соответственно пропуски можно заполнить минимальным значением."
   ]
  },
  {
   "cell_type": "code",
   "execution_count": 117,
   "id": "23c37317",
   "metadata": {},
   "outputs": [
    {
     "data": {
      "text/plain": [
       "array([nan, '10+ years', '8 years', '6 years', '7 years', '5 years',\n",
       "       '1 year', '< 1 year', '4 years', '3 years', '2 years', '9 years'],\n",
       "      dtype=object)"
      ]
     },
     "execution_count": 117,
     "metadata": {},
     "output_type": "execute_result"
    }
   ],
   "source": [
    "df_train['Years in current job'].unique()"
   ]
  },
  {
   "cell_type": "code",
   "execution_count": 118,
   "id": "b1f7fb9a",
   "metadata": {},
   "outputs": [],
   "source": [
    "# Заполняем пропуски\n",
    "df_train['Years in current job'].fillna('< 1 year', inplace=True)"
   ]
  },
  {
   "cell_type": "markdown",
   "id": "1e6c30e6",
   "metadata": {},
   "source": [
    "##### 'Months since last delinquent'"
   ]
  },
  {
   "cell_type": "code",
   "execution_count": 119,
   "id": "aebbab6c",
   "metadata": {},
   "outputs": [],
   "source": [
    "# Заполняем пропуски медианой\n",
    "df_train['Months since last delinquent'].fillna(df_train['Months since last delinquent'].median(), inplace=True)"
   ]
  },
  {
   "cell_type": "markdown",
   "id": "1b367a6d",
   "metadata": {},
   "source": [
    "### Обработка признаков"
   ]
  },
  {
   "cell_type": "markdown",
   "id": "6f65e918",
   "metadata": {},
   "source": [
    "##### 'Home Ownership'"
   ]
  },
  {
   "cell_type": "code",
   "execution_count": 120,
   "id": "f5970c42",
   "metadata": {},
   "outputs": [
    {
     "data": {
      "text/plain": [
       "array(['Own Home', 'Home Mortgage', 'Rent', 'Have Mortgage'], dtype=object)"
      ]
     },
     "execution_count": 120,
     "metadata": {},
     "output_type": "execute_result"
    }
   ],
   "source": [
    "df_train['Home Ownership'].unique()"
   ]
  },
  {
   "cell_type": "markdown",
   "id": "031eb7c2",
   "metadata": {},
   "source": [
    "Признак 'Home Ownership' является категориальным, поэтому заменим его на дамми-переменные"
   ]
  },
  {
   "cell_type": "code",
   "execution_count": 121,
   "id": "6bba8b8d",
   "metadata": {},
   "outputs": [],
   "source": [
    "home_ownership_dummies = pd.get_dummies(df_train['Home Ownership'], prefix='Home Ownership')\n",
    "df_train = pd.concat([df_train, home_ownership_dummies], axis=1)"
   ]
  },
  {
   "cell_type": "markdown",
   "id": "1929e635",
   "metadata": {},
   "source": [
    "##### 'Years in current job'"
   ]
  },
  {
   "cell_type": "code",
   "execution_count": 122,
   "id": "67db9eec",
   "metadata": {},
   "outputs": [
    {
     "data": {
      "text/plain": [
       "array(['< 1 year', '10+ years', '8 years', '6 years', '7 years',\n",
       "       '5 years', '1 year', '4 years', '3 years', '2 years', '9 years'],\n",
       "      dtype=object)"
      ]
     },
     "execution_count": 122,
     "metadata": {},
     "output_type": "execute_result"
    }
   ],
   "source": [
    "df_train['Years in current job'].unique()"
   ]
  },
  {
   "cell_type": "markdown",
   "id": "1e04de71",
   "metadata": {},
   "source": [
    "Признак обозначен строковыми данными, хотя несет числовой смысл. Заменим значения его числами"
   ]
  },
  {
   "cell_type": "code",
   "execution_count": 123,
   "id": "8274b28d",
   "metadata": {},
   "outputs": [],
   "source": [
    "df_train['Years in current job'] = df_train['Years in current job'].map({\n",
    "        '10+ years': 10,\n",
    "        '9 years': 9,\n",
    "        '8 years': 8,\n",
    "        '7 years': 7,\n",
    "        '6 years': 6,\n",
    "        '5 years': 5,\n",
    "        '4 years': 4,\n",
    "        '3 years': 3,\n",
    "        '2 years': 2,\n",
    "        '1 year': 1,\n",
    "        '< 1 year': 0\n",
    "    }).astype(np.int8)"
   ]
  },
  {
   "cell_type": "markdown",
   "id": "10355717",
   "metadata": {},
   "source": [
    "##### 'Purpose'"
   ]
  },
  {
   "cell_type": "code",
   "execution_count": 124,
   "id": "b9f88352",
   "metadata": {},
   "outputs": [
    {
     "data": {
      "text/plain": [
       "array(['debt consolidation', 'other', 'home improvements', 'take a trip',\n",
       "       'buy a car', 'small business', 'business loan', 'wedding',\n",
       "       'educational expenses', 'buy house', 'medical bills', 'moving',\n",
       "       'major purchase', 'vacation', 'renewable energy'], dtype=object)"
      ]
     },
     "execution_count": 124,
     "metadata": {},
     "output_type": "execute_result"
    }
   ],
   "source": [
    "df_train['Purpose'].unique()"
   ]
  },
  {
   "cell_type": "markdown",
   "id": "4034b759",
   "metadata": {},
   "source": [
    "Признак категориальный,  заменим его на дамми-переменные"
   ]
  },
  {
   "cell_type": "code",
   "execution_count": 125,
   "id": "e7fa3ebc",
   "metadata": {},
   "outputs": [],
   "source": [
    "purpose_dummies = pd.get_dummies(df_train['Purpose'], prefix='Purpose')\n",
    "df_train = pd.concat([df_train, purpose_dummies], axis=1)"
   ]
  },
  {
   "cell_type": "markdown",
   "id": "21d02955",
   "metadata": {},
   "source": [
    "##### 'Term'"
   ]
  },
  {
   "cell_type": "code",
   "execution_count": 126,
   "id": "0fb3a7f9",
   "metadata": {},
   "outputs": [
    {
     "data": {
      "text/plain": [
       "array(['Short Term', 'Long Term'], dtype=object)"
      ]
     },
     "execution_count": 126,
     "metadata": {},
     "output_type": "execute_result"
    }
   ],
   "source": [
    "df_train['Term'].unique()"
   ]
  },
  {
   "cell_type": "markdown",
   "id": "13e28917",
   "metadata": {},
   "source": [
    "Этот признак - бинарный, его значения можно заменить на 0 и 1"
   ]
  },
  {
   "cell_type": "code",
   "execution_count": 127,
   "id": "726c8809",
   "metadata": {},
   "outputs": [],
   "source": [
    "df_train['Term'] = df_train['Term'].map({\n",
    "        'Short Term': 0,\n",
    "        'Long Term': 1\n",
    "    }).astype(np.int8)"
   ]
  },
  {
   "cell_type": "markdown",
   "id": "b958e110",
   "metadata": {},
   "source": [
    "### Предобработка данных"
   ]
  },
  {
   "cell_type": "markdown",
   "id": "8de16870",
   "metadata": {},
   "source": [
    "##### Отбор признаков"
   ]
  },
  {
   "cell_type": "markdown",
   "id": "dd8acf02",
   "metadata": {},
   "source": [
    "Уберем признаки типа 'object', так как в датафрейм добавлены их числовые аналоги"
   ]
  },
  {
   "cell_type": "code",
   "execution_count": 128,
   "id": "43236301",
   "metadata": {},
   "outputs": [],
   "source": [
    "str_features = [ col for col in df_train.columns if df_train[col].dtype == 'O' ]\n",
    "df_train.drop(columns=str_features, inplace=True)"
   ]
  },
  {
   "cell_type": "markdown",
   "id": "45fa3025",
   "metadata": {},
   "source": [
    "##### Балансировка данных"
   ]
  },
  {
   "cell_type": "code",
   "execution_count": 130,
   "id": "13e5526a",
   "metadata": {},
   "outputs": [],
   "source": [
    "TARGET_NAME = 'Credit Default'\n",
    "df_balanced = balance_df_by_target(df_train, TARGET_NAME)"
   ]
  },
  {
   "cell_type": "markdown",
   "id": "766f88cd",
   "metadata": {},
   "source": [
    "##### Отделяем целевую переменную"
   ]
  },
  {
   "cell_type": "code",
   "execution_count": 131,
   "id": "3655d7ec",
   "metadata": {},
   "outputs": [],
   "source": [
    "X = df_balanced.drop('Credit Default', axis=1)\n",
    "y = df_balanced['Credit Default']"
   ]
  },
  {
   "cell_type": "markdown",
   "id": "764293f4",
   "metadata": {},
   "source": [
    "##### Разделение на тренировочную и валидационную выборку"
   ]
  },
  {
   "cell_type": "code",
   "execution_count": 142,
   "id": "b1b06092",
   "metadata": {},
   "outputs": [],
   "source": [
    "X_train, X_valid, y_train, y_valid = train_test_split(X, y, test_size=0.3, random_state=42)"
   ]
  },
  {
   "cell_type": "markdown",
   "id": "41bf26e5",
   "metadata": {},
   "source": [
    "### Обучение и оценка модели"
   ]
  },
  {
   "cell_type": "markdown",
   "id": "1e5a30a5",
   "metadata": {},
   "source": [
    "##### XGBoost"
   ]
  },
  {
   "cell_type": "code",
   "execution_count": 143,
   "id": "7328f171",
   "metadata": {},
   "outputs": [
    {
     "name": "stderr",
     "output_type": "stream",
     "text": [
      "C:\\Users\\LENOVO\\anaconda3\\lib\\site-packages\\xgboost\\sklearn.py:1146: UserWarning: The use of label encoder in XGBClassifier is deprecated and will be removed in a future release. To remove this warning, do the following: 1) Pass option use_label_encoder=False when constructing XGBClassifier object; and 2) Encode your labels (y) as integers starting with 0, i.e. 0, 1, 2, ..., [num_class - 1].\n",
      "  warnings.warn(label_encoder_deprecation_msg, UserWarning)\n"
     ]
    },
    {
     "name": "stdout",
     "output_type": "stream",
     "text": [
      "[05:38:55] WARNING: C:/Users/Administrator/workspace/xgboost-win64_release_1.4.0/src/learner.cc:1095: Starting in XGBoost 1.3.0, the default evaluation metric used with the objective 'binary:logistic' was changed from 'error' to 'logloss'. Explicitly set eval_metric if you'd like to restore the old behavior.\n"
     ]
    }
   ],
   "source": [
    "model_xgb = xgb.XGBClassifier(random_state=42)\n",
    "model_xgb.fit(X_train, y_train)\n",
    "\n",
    "y_train_pred = model_xgb.predict(X_train)\n",
    "y_valid_pred = model_xgb.predict(X_valid)"
   ]
  },
  {
   "cell_type": "markdown",
   "id": "cbbf4cb4",
   "metadata": {},
   "source": [
    "Оценка модели"
   ]
  },
  {
   "cell_type": "code",
   "execution_count": 144,
   "id": "8762c4e7",
   "metadata": {},
   "outputs": [
    {
     "name": "stdout",
     "output_type": "stream",
     "text": [
      "F1 на тренировочной выборке: 0.99\n",
      "F1 на валидационной выборке: 0.83\n",
      "Precision: 0.85\n",
      "Recall: 0.81\n"
     ]
    }
   ],
   "source": [
    "print(f'F1 на тренировочной выборке: {f1_score(y_train, y_train_pred):.2f}')\n",
    "print(f'F1 на валидационной выборке: {f1_score(y_valid, y_valid_pred):.2f}')\n",
    "\n",
    "# Матрица ошибок\n",
    "conf_matrix = confusion_matrix(y_valid, y_valid_pred)\n",
    "\n",
    "TP = conf_matrix[1][1]\n",
    "FP = conf_matrix[0][1]\n",
    "FN = conf_matrix[1][0]\n",
    "\n",
    "precision = TP / (TP + FP)\n",
    "recall = TP / (TP + FN)\n",
    "\n",
    "print(f'Precision: {precision:.2f}')\n",
    "print(f'Recall: {recall:.2f}')"
   ]
  },
  {
   "cell_type": "markdown",
   "id": "bb407b0d",
   "metadata": {},
   "source": [
    "##### LightGBM"
   ]
  },
  {
   "cell_type": "code",
   "execution_count": 147,
   "id": "85eb8a85",
   "metadata": {},
   "outputs": [],
   "source": [
    "model_lgbm = lgbm.LGBMClassifier(random_state=42)\n",
    "model_lgbm.fit(X_train, y_train)\n",
    "\n",
    "y_train_pred = model_lgbm.predict(X_train)\n",
    "y_valid_pred = model_lgbm.predict(X_valid)"
   ]
  },
  {
   "cell_type": "markdown",
   "id": "269dbbbe",
   "metadata": {},
   "source": [
    "Оценка модели"
   ]
  },
  {
   "cell_type": "code",
   "execution_count": 148,
   "id": "84389efb",
   "metadata": {},
   "outputs": [
    {
     "name": "stdout",
     "output_type": "stream",
     "text": [
      "F1 на тренировочной выборке: 0.95\n",
      "F1 на валидационной выборке: 0.81\n",
      "Precision: 0.86\n",
      "Recall: 0.76\n"
     ]
    }
   ],
   "source": [
    "print(f'F1 на тренировочной выборке: {f1_score(y_train, y_train_pred):.2f}')\n",
    "print(f'F1 на валидационной выборке: {f1_score(y_valid, y_valid_pred):.2f}')\n",
    "\n",
    "# Матрица ошибок\n",
    "conf_matrix = confusion_matrix(y_valid, y_valid_pred)\n",
    "\n",
    "TP = conf_matrix[1][1]\n",
    "FP = conf_matrix[0][1]\n",
    "FN = conf_matrix[1][0]\n",
    "\n",
    "precision = TP / (TP + FP)\n",
    "recall = TP / (TP + FN)\n",
    "\n",
    "print(f'Precision: {precision:.2f}')\n",
    "print(f'Recall: {recall:.2f}')"
   ]
  },
  {
   "cell_type": "markdown",
   "id": "70a7a070",
   "metadata": {},
   "source": [
    "##### CatBoost"
   ]
  },
  {
   "cell_type": "code",
   "execution_count": 145,
   "id": "aa394801",
   "metadata": {},
   "outputs": [],
   "source": [
    "model_catb = catb.CatBoostClassifier(silent=True, random_state=42)\n",
    "model_catb.fit(X_train, y_train)\n",
    "\n",
    "y_train_pred = model_catb.predict(X_train)\n",
    "y_valid_pred = model_catb.predict(X_valid)"
   ]
  },
  {
   "cell_type": "markdown",
   "id": "29a72d38",
   "metadata": {},
   "source": [
    "Оценка модели"
   ]
  },
  {
   "cell_type": "code",
   "execution_count": 146,
   "id": "9feeff54",
   "metadata": {},
   "outputs": [
    {
     "name": "stdout",
     "output_type": "stream",
     "text": [
      "F1 на тренировочной выборке: 0.92\n",
      "F1 на валидационной выборке: 0.78\n",
      "Precision: 0.86\n",
      "Recall: 0.72\n"
     ]
    }
   ],
   "source": [
    "print(f'F1 на тренировочной выборке: {f1_score(y_train, y_train_pred):.2f}')\n",
    "print(f'F1 на валидационной выборке: {f1_score(y_valid, y_valid_pred):.2f}')\n",
    "\n",
    "# Матрица ошибок\n",
    "conf_matrix = confusion_matrix(y_valid, y_valid_pred)\n",
    "\n",
    "TP = conf_matrix[1][1]\n",
    "FP = conf_matrix[0][1]\n",
    "FN = conf_matrix[1][0]\n",
    "\n",
    "precision = TP / (TP + FP)\n",
    "recall = TP / (TP + FN)\n",
    "\n",
    "print(f'Precision: {precision:.2f}')\n",
    "print(f'Recall: {recall:.2f}')"
   ]
  },
  {
   "cell_type": "markdown",
   "id": "df6c7af9",
   "metadata": {},
   "source": [
    "На основе полученных данных, для тестового датасета будет использована модель XGBoost, так как F1-score выше"
   ]
  },
  {
   "cell_type": "markdown",
   "id": "9474a5b4",
   "metadata": {},
   "source": [
    "### Обработка данных тестового датасета"
   ]
  },
  {
   "cell_type": "code",
   "execution_count": 191,
   "id": "f09bec9f",
   "metadata": {},
   "outputs": [],
   "source": [
    "# Заполнение пропусков линейной регрессией\n",
    "fillna_by_lr(df_test, 'Monthly Debt', 'Annual Income')\n",
    "fillna_by_lr(df_test, 'Number of Credit Problems', 'Bankruptcies')\n",
    "\n",
    "# Заполнение медианой признака 'Credit Score'\n",
    "credit_score_median = df_test['Credit Score'].median()\n",
    "df_test['Credit Score'].fillna(credit_score_median, inplace=True)\n",
    "\n",
    "# 'Years in current job'\n",
    "df_test['Years in current job'].fillna('< 1 year', inplace=True)\n",
    "df_test['Years in current job'] = df_test['Years in current job'].map({\n",
    "        '10+ years': 10,\n",
    "        '9 years': 9,\n",
    "        '8 years': 8,\n",
    "        '7 years': 7,\n",
    "        '6 years': 6,\n",
    "        '5 years': 5,\n",
    "        '4 years': 4,\n",
    "        '3 years': 3,\n",
    "        '2 years': 2,\n",
    "        '1 year': 1,\n",
    "        '< 1 year': 0\n",
    "    }).astype(np.int8)\n",
    "\n",
    "# Заполняем пропуски медианой\n",
    "df_test['Months since last delinquent'].fillna(df_test['Months since last delinquent'].median(), inplace=True)\n",
    "\n",
    "# 'Home Ownership'\n",
    "home_ownership_dummies = pd.get_dummies(df_test['Home Ownership'], prefix='Home Ownership')\n",
    "df_test = pd.concat([df_test, home_ownership_dummies], axis=1)\n",
    "\n",
    "# 'Purpose'\n",
    "purpose_dummies = pd.get_dummies(df_test['Purpose'], prefix='Purpose')\n",
    "\n",
    "df_test = pd.concat([df_test, purpose_dummies], axis=1)\n",
    "\n",
    "# 'Term'\n",
    "df_test['Term'] = df_test['Term'].map({\n",
    "        'Short Term': 0,\n",
    "        'Long Term': 1\n",
    "    }).astype(np.int8)\n",
    "\n",
    "# Удаление строковых данных\n",
    "str_features = [ col for col in df_test.columns if df_test[col].dtype == 'O' ]\n",
    "df_test.drop(columns=str_features, inplace=True)"
   ]
  },
  {
   "cell_type": "code",
   "execution_count": 137,
   "id": "0eda84d9",
   "metadata": {},
   "outputs": [
    {
     "name": "stdout",
     "output_type": "stream",
     "text": [
      "[]\n"
     ]
    }
   ],
   "source": [
    "# Проверяем, заполнение пропусков\n",
    "print(missins_values(df_test))"
   ]
  },
  {
   "cell_type": "code",
   "execution_count": 158,
   "id": "c32ed767",
   "metadata": {},
   "outputs": [
    {
     "name": "stdout",
     "output_type": "stream",
     "text": [
      "(6729, 33)\n",
      "(2500, 32)\n"
     ]
    }
   ],
   "source": [
    "print(X_train.shape)\n",
    "print(df_test.shape)dd"
   ]
  },
  {
   "cell_type": "markdown",
   "id": "741a85ac",
   "metadata": {},
   "source": [
    "Видно, что после обработки тестового датасета в нем на 1 признак меньше, чем в тренировочном. Надо его найти и заполнить нулями"
   ]
  },
  {
   "cell_type": "code",
   "execution_count": 161,
   "id": "585a6037",
   "metadata": {},
   "outputs": [
    {
     "name": "stdout",
     "output_type": "stream",
     "text": [
      "<class 'pandas.core.frame.DataFrame'>\n",
      "RangeIndex: 2500 entries, 0 to 2499\n",
      "Data columns (total 32 columns):\n",
      " #   Column                        Non-Null Count  Dtype  \n",
      "---  ------                        --------------  -----  \n",
      " 0   Annual Income                 2500 non-null   float64\n",
      " 1   Years in current job          2500 non-null   int8   \n",
      " 2   Tax Liens                     2500 non-null   float64\n",
      " 3   Number of Open Accounts       2500 non-null   float64\n",
      " 4   Years of Credit History       2500 non-null   float64\n",
      " 5   Maximum Open Credit           2500 non-null   float64\n",
      " 6   Number of Credit Problems     2500 non-null   float64\n",
      " 7   Months since last delinquent  2500 non-null   float64\n",
      " 8   Bankruptcies                  2500 non-null   float64\n",
      " 9   Term                          2500 non-null   int8   \n",
      " 10  Current Loan Amount           2500 non-null   float64\n",
      " 11  Current Credit Balance        2500 non-null   float64\n",
      " 12  Monthly Debt                  2500 non-null   float64\n",
      " 13  Credit Score                  2500 non-null   float64\n",
      " 14  Home Ownership_Have Mortgage  2500 non-null   uint8  \n",
      " 15  Home Ownership_Home Mortgage  2500 non-null   uint8  \n",
      " 16  Home Ownership_Own Home       2500 non-null   uint8  \n",
      " 17  Home Ownership_Rent           2500 non-null   uint8  \n",
      " 18  Purpose_business loan         2500 non-null   uint8  \n",
      " 19  Purpose_buy a car             2500 non-null   uint8  \n",
      " 20  Purpose_buy house             2500 non-null   uint8  \n",
      " 21  Purpose_debt consolidation    2500 non-null   uint8  \n",
      " 22  Purpose_educational expenses  2500 non-null   uint8  \n",
      " 23  Purpose_home improvements     2500 non-null   uint8  \n",
      " 24  Purpose_major purchase        2500 non-null   uint8  \n",
      " 25  Purpose_medical bills         2500 non-null   uint8  \n",
      " 26  Purpose_moving                2500 non-null   uint8  \n",
      " 27  Purpose_other                 2500 non-null   uint8  \n",
      " 28  Purpose_small business        2500 non-null   uint8  \n",
      " 29  Purpose_take a trip           2500 non-null   uint8  \n",
      " 30  Purpose_vacation              2500 non-null   uint8  \n",
      " 31  Purpose_wedding               2500 non-null   uint8  \n",
      "dtypes: float64(12), int8(2), uint8(18)\n",
      "memory usage: 283.3 KB\n"
     ]
    }
   ],
   "source": [
    "df_test.info()"
   ]
  },
  {
   "cell_type": "markdown",
   "id": "693bc203",
   "metadata": {},
   "source": [
    "В тестовом датасете отсутствует признак ' Purpose_renewable energy '"
   ]
  },
  {
   "cell_type": "code",
   "execution_count": 192,
   "id": "4da882a1",
   "metadata": {},
   "outputs": [
    {
     "name": "stdout",
     "output_type": "stream",
     "text": [
      "<class 'pandas.core.frame.DataFrame'>\n",
      "RangeIndex: 2500 entries, 0 to 2499\n",
      "Data columns (total 33 columns):\n",
      " #   Column                        Non-Null Count  Dtype  \n",
      "---  ------                        --------------  -----  \n",
      " 0   Annual Income                 2500 non-null   float64\n",
      " 1   Years in current job          2500 non-null   int8   \n",
      " 2   Tax Liens                     2500 non-null   float64\n",
      " 3   Number of Open Accounts       2500 non-null   float64\n",
      " 4   Years of Credit History       2500 non-null   float64\n",
      " 5   Maximum Open Credit           2500 non-null   float64\n",
      " 6   Number of Credit Problems     2500 non-null   float64\n",
      " 7   Months since last delinquent  2500 non-null   float64\n",
      " 8   Bankruptcies                  2500 non-null   float64\n",
      " 9   Term                          2500 non-null   int8   \n",
      " 10  Current Loan Amount           2500 non-null   float64\n",
      " 11  Current Credit Balance        2500 non-null   float64\n",
      " 12  Monthly Debt                  2500 non-null   float64\n",
      " 13  Credit Score                  2500 non-null   float64\n",
      " 14  Home Ownership_Have Mortgage  2500 non-null   uint8  \n",
      " 15  Home Ownership_Home Mortgage  2500 non-null   uint8  \n",
      " 16  Home Ownership_Own Home       2500 non-null   uint8  \n",
      " 17  Home Ownership_Rent           2500 non-null   uint8  \n",
      " 18  Purpose_business loan         2500 non-null   uint8  \n",
      " 19  Purpose_buy a car             2500 non-null   uint8  \n",
      " 20  Purpose_buy house             2500 non-null   uint8  \n",
      " 21  Purpose_debt consolidation    2500 non-null   uint8  \n",
      " 22  Purpose_educational expenses  2500 non-null   uint8  \n",
      " 23  Purpose_home improvements     2500 non-null   uint8  \n",
      " 24  Purpose_major purchase        2500 non-null   uint8  \n",
      " 25  Purpose_medical bills         2500 non-null   uint8  \n",
      " 26  Purpose_moving                2500 non-null   uint8  \n",
      " 27  Purpose_other                 2500 non-null   uint8  \n",
      " 28  Purpose_renewable energy      2500 non-null   uint8  \n",
      " 29  Purpose_small business        2500 non-null   uint8  \n",
      " 30  Purpose_take a trip           2500 non-null   uint8  \n",
      " 31  Purpose_vacation              2500 non-null   uint8  \n",
      " 32  Purpose_wedding               2500 non-null   uint8  \n",
      "dtypes: float64(12), int8(2), uint8(19)\n",
      "memory usage: 285.8 KB\n"
     ]
    }
   ],
   "source": [
    "# Разделяем\n",
    "drop_features = ['Purpose_small business', 'Purpose_take a trip', 'Purpose_vacation', 'Purpose_wedding']\n",
    "df_test1 = df_test.copy()\n",
    "df_test1 = df_test1.drop(drop_features, axis=1)\n",
    "Z = np.zeros(2500)\n",
    "purpose_renewable_energy = pd.DataFrame({'Purpose_renewable energy': Z}, dtype='uint8')\n",
    "df_test1 = pd.concat([df_test1, purpose_renewable_energy], axis=1)\n",
    "df_test = pd.concat([df_test1, df_test[drop_features]], axis=1)\n",
    "df_test.info()"
   ]
  },
  {
   "cell_type": "markdown",
   "id": "6717caa5",
   "metadata": {},
   "source": [
    "##### Предсказание на тестовом датафрейме"
   ]
  },
  {
   "cell_type": "code",
   "execution_count": 206,
   "id": "74ef0368",
   "metadata": {},
   "outputs": [],
   "source": [
    "y_pred = model_xgb.predict(df_test)"
   ]
  },
  {
   "cell_type": "code",
   "execution_count": 207,
   "id": "812d295c",
   "metadata": {
    "scrolled": true
   },
   "outputs": [],
   "source": [
    "# Сохранение предсказаний\n",
    "submit = pd.read_csv(SUBMIT_DATASET_PATH)\n",
    "submit['Credit Default'] = y_pred\n",
    "submit.to_csv('RShafigullin_predictions.csv', index=False)"
   ]
  }
 ],
 "metadata": {
  "kernelspec": {
   "display_name": "Python 3",
   "language": "python",
   "name": "python3"
  },
  "language_info": {
   "codemirror_mode": {
    "name": "ipython",
    "version": 3
   },
   "file_extension": ".py",
   "mimetype": "text/x-python",
   "name": "python",
   "nbconvert_exporter": "python",
   "pygments_lexer": "ipython3",
   "version": "3.8.8"
  }
 },
 "nbformat": 4,
 "nbformat_minor": 5
}
