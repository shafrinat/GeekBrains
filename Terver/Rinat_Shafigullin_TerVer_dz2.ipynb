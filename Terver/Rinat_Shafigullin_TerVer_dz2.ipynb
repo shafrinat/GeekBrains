{
 "cells": [
  {
   "cell_type": "markdown",
   "id": "a83e0aac",
   "metadata": {},
   "source": [
    "### \"Теория вероятностей и математическая статистика\"\n",
    "##### Домашнее задание №2"
   ]
  },
  {
   "cell_type": "code",
   "execution_count": 2,
   "id": "c5894eb6",
   "metadata": {},
   "outputs": [],
   "source": [
    "#Функции для использования\n",
    "import math as m\n",
    "import pandas as pd\n",
    "\n",
    "# Сочетания (из прошлой ДЗ :)\n",
    "def combinations(k, n):\n",
    "    c = m.factorial(n) // (m.factorial(k)*m.factorial(n - k))\n",
    "    return c\n",
    "\n",
    "# Формула Бернулли\n",
    "def binomial(k, n, p):\n",
    "    p_n = combinations(k, n)*pow(p, k)*pow((1-p),(n-k))\n",
    "    return p_n\n",
    "\n",
    "# Пуассоновское распределение\n",
    "def pois(k, lambda_):\n",
    "    p_k = pow(lambda_, k)*m.exp(-lambda_)/m.factorial(k)\n",
    "    return p_k"
   ]
  },
  {
   "cell_type": "markdown",
   "id": "1f0840c1",
   "metadata": {},
   "source": [
    "<b>Задача 1</b>\n",
    "\n",
    "Контрольная работа состоит из пяти вопросов. На каждый вопрос приведено четыре варианта ответа, один из которых правильный. Составьте закон распределения числа правильных ответов при простом угадывании. Найдите M(X), D(X)."
   ]
  },
  {
   "cell_type": "markdown",
   "id": "4e3f4dac",
   "metadata": {},
   "source": [
    "Условие задачи попадает под закон Биномиального распределенния, так как пять вопросов - это пять независимых испытаний, и в каждом испытании вероятность правильного ответа одинакова и равна 0,25 (1 из 4). Сделаем расчет для 6 случаев, где количество правильных ответов 0, 1, 2, 3, 4 и 5."
   ]
  },
  {
   "cell_type": "code",
   "execution_count": 22,
   "id": "2b06855a",
   "metadata": {},
   "outputs": [
    {
     "data": {
      "text/html": [
       "<div>\n",
       "<style scoped>\n",
       "    .dataframe tbody tr th:only-of-type {\n",
       "        vertical-align: middle;\n",
       "    }\n",
       "\n",
       "    .dataframe tbody tr th {\n",
       "        vertical-align: top;\n",
       "    }\n",
       "\n",
       "    .dataframe thead th {\n",
       "        text-align: right;\n",
       "    }\n",
       "</style>\n",
       "<table border=\"1\" class=\"dataframe\">\n",
       "  <thead>\n",
       "    <tr style=\"text-align: right;\">\n",
       "      <th></th>\n",
       "      <th>Вероятность</th>\n",
       "    </tr>\n",
       "  </thead>\n",
       "  <tbody>\n",
       "    <tr>\n",
       "      <th>0</th>\n",
       "      <td>0.237305</td>\n",
       "    </tr>\n",
       "    <tr>\n",
       "      <th>1</th>\n",
       "      <td>0.395508</td>\n",
       "    </tr>\n",
       "    <tr>\n",
       "      <th>2</th>\n",
       "      <td>0.263672</td>\n",
       "    </tr>\n",
       "    <tr>\n",
       "      <th>3</th>\n",
       "      <td>0.087891</td>\n",
       "    </tr>\n",
       "    <tr>\n",
       "      <th>4</th>\n",
       "      <td>0.014648</td>\n",
       "    </tr>\n",
       "    <tr>\n",
       "      <th>5</th>\n",
       "      <td>0.000977</td>\n",
       "    </tr>\n",
       "  </tbody>\n",
       "</table>\n",
       "</div>"
      ],
      "text/plain": [
       "   Вероятность\n",
       "0     0.237305\n",
       "1     0.395508\n",
       "2     0.263672\n",
       "3     0.087891\n",
       "4     0.014648\n",
       "5     0.000977"
      ]
     },
     "execution_count": 22,
     "metadata": {},
     "output_type": "execute_result"
    }
   ],
   "source": [
    "k = []\n",
    "for i in range(6):\n",
    "    k.append(binomial(i, 5, 0.25))\n",
    "df = pd.DataFrame(k, columns =['Вероятность'])\n",
    "df"
   ]
  },
  {
   "cell_type": "markdown",
   "id": "b24aebd9",
   "metadata": {},
   "source": [
    "Первый столбец - количество правильно угаданных ответов, второй столбец - вероятность их угадать.<br>\n",
    "Теперь же посчитаем математическое ожидание М(Х) и дисперсию D(X):"
   ]
  },
  {
   "cell_type": "code",
   "execution_count": 23,
   "id": "b27bac85",
   "metadata": {},
   "outputs": [
    {
     "name": "stdout",
     "output_type": "stream",
     "text": [
      "M(X)=1.25, D(X)=0.9375\n"
     ]
    }
   ],
   "source": [
    "print(f'M(X)={5*0.25}, D(X)={5*0.25*(1-0.25)}')"
   ]
  },
  {
   "cell_type": "markdown",
   "id": "5bf9984c",
   "metadata": {},
   "source": [
    "<b>Задача 2</b>\n",
    "\n",
    "Вероятность поймать рыбу при одном забрасывании удочки равна 0.01. Какова вероятность того, что число пойманных рыб при 200 забросах удочки будет не менее 5 и не более 10?"
   ]
  },
  {
   "cell_type": "markdown",
   "id": "2bc7825b",
   "metadata": {},
   "source": [
    "В данном задании нужно применить биномиальное распределение. Но, мы видим, что число испытаний достаточно большое (200), а вероятность очень низная (0,01). Таким образом можно воспользоваться Пуассоновским распределением, где $\\lambda=n\\cdot p=200\\cdot0,01=2$.<br>\n",
    "Далее, нас интересует число k в промежутке [5; 10] включительно. Поэтому найдем вероятности для каждого случая и промежутка и просуммируем, так как данные события независимые."
   ]
  },
  {
   "cell_type": "code",
   "execution_count": 30,
   "id": "2b6346f0",
   "metadata": {},
   "outputs": [
    {
     "name": "stdout",
     "output_type": "stream",
     "text": [
      "Вероятность равна 0.052644709119342686 или примерно 5.26%\n"
     ]
    }
   ],
   "source": [
    "lambda_=2\n",
    "p = sum(pois(k=i, lambda_=lambda_) for i in range(5, 11))\n",
    "print(f'Вероятность равна {p} или примерно {p*100:.3}%')"
   ]
  },
  {
   "cell_type": "markdown",
   "id": "ab5d3e7c",
   "metadata": {},
   "source": [
    "<b>Задача 3</b>\n",
    "\n",
    "В условиях предыдущей задачи сколько забросов удочки нужно сделать чтобы быть уверенным с вероятностью 0.9, что хотя бы 10 раз будет поймана рыба?\n",
    "\n",
    "Подсказка. Как посчитать P(X >= k) для величины X, имеющей биномиальное распределение? Здесь предстоит немножко покодить."
   ]
  },
  {
   "cell_type": "code",
   "execution_count": 20,
   "id": "804c58e4",
   "metadata": {},
   "outputs": [
    {
     "name": "stdout",
     "output_type": "stream",
     "text": [
      "Чтобы поймать не менее 10 рыб с вероятностью 0,9, нужно 1418 раз забросить удочку\n"
     ]
    }
   ],
   "source": [
    "# Вычисляет сумму вероятностей для всех k>=10\n",
    "def sum_p(n):\n",
    "    p_k = 0\n",
    "    for k in range (10, n+1):\n",
    "        p_k += binomial(k, n, 0.01)\n",
    "        if binomial(k, n, 0.01)<10**(-6):    # Условие остановки - низкая вероятность для очередного k\n",
    "            break\n",
    "    return p_k\n",
    "\n",
    "n = 100\n",
    "while sum_p(n)<0.9:\n",
    "    n+=1\n",
    "print(f'Чтобы поймать не менее 10 рыб с вероятностью 0,9, нужно {n} раз забросить удочку')"
   ]
  }
 ],
 "metadata": {
  "kernelspec": {
   "display_name": "Python 3",
   "language": "python",
   "name": "python3"
  },
  "language_info": {
   "codemirror_mode": {
    "name": "ipython",
    "version": 3
   },
   "file_extension": ".py",
   "mimetype": "text/x-python",
   "name": "python",
   "nbconvert_exporter": "python",
   "pygments_lexer": "ipython3",
   "version": "3.8.8"
  }
 },
 "nbformat": 4,
 "nbformat_minor": 5
}
