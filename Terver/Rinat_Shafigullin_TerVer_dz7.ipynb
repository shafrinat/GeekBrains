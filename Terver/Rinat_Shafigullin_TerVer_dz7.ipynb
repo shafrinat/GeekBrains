{
 "cells": [
  {
   "cell_type": "markdown",
   "id": "d6c3108c",
   "metadata": {},
   "source": [
    "### Теория вероятностей и математическая статистика\n",
    "##### Домашнее задание к уроку 7"
   ]
  },
  {
   "cell_type": "markdown",
   "id": "97aaca6d",
   "metadata": {},
   "source": [
    "<b>Задача 1</b><br>\n",
    "<br>\n",
    "Дана матрица объект-признак<br>\n",
    "X = [[ 1.22401313, 2.30868478, 3.03636353, 2.69287214],<br>\n",
    "[-0.18757272, 1.30337355, 5.12093014, 3.46363202],<br>\n",
    "[-0.81094525, 1.82463398, 5.79686488, 1.86159445],<br>\n",
    "[ 0.75129018, 2.67392052, 3.65529809, 1.66746094],<br>\n",
    "[ 0.00972362, 1.97367255, 2.50594319, 1.69755173],<br>\n",
    "[-0.62972637, 0.77750764, 2.84124027, 4.54410559],<br>\n",
    "[ 2.29536229, 1.81206697, 1.95026215, 1.51874636],<br>\n",
    "[ 0.0920418 , 2.26971361, 7.47708735, 2.61081203],<br>\n",
    "[ 2.39252799, 3.17563985, 3.61420599, 5.10773362],<br>\n",
    "[ 0.54983815, 2.87988651, 1.65752765, 1.59635987]]<br>\n",
    "\n",
    "и значения целевой переменной\n",
    "\n",
    "y = [ 9.26193358, 9.700363 , 8.67214805, 8.74796974, 6.18689108,\n",
    "7.53312713, 7.57643777, 12.44965478, 14.29010746, 6.68361218]\n",
    "\n",
    "1. Подберите два признака (из четырёх) так, чтобы уровень линейной зависимости целевой переменной от значений этих признаков был максимальным. Другими словами, модель линейной регрессии на этих признаках должна давать максимальный R2. Например, берем признак х1 и х3 и строим модель y = b0 + b1 * x1 + b2 * x3, затем признаки x2 и x1 и тд\n",
    "2. Является ли значимым получившееся уравнение регрессии?"
   ]
  },
  {
   "cell_type": "code",
   "execution_count": 1,
   "id": "f4b8011d",
   "metadata": {},
   "outputs": [
    {
     "data": {
      "text/plain": [
       "349.7782033818831"
      ]
     },
     "execution_count": 1,
     "metadata": {},
     "output_type": "execute_result"
    }
   ],
   "source": [
    "import pandas as pd\n",
    "import numpy as np\n",
    "\n",
    "X = np.array([[ 1.22401313, 2.30868478, 3.03636353, 2.69287214],\n",
    "[-0.18757272, 1.30337355, 5.12093014, 3.46363202],\n",
    "[-0.81094525, 1.82463398, 5.79686488, 1.86159445],\n",
    "[ 0.75129018, 2.67392052, 3.65529809, 1.66746094],\n",
    "[ 0.00972362, 1.97367255, 2.50594319, 1.69755173],\n",
    "[-0.62972637, 0.77750764, 2.84124027, 4.54410559],\n",
    "[ 2.29536229, 1.81206697, 1.95026215, 1.51874636],\n",
    "[ 0.0920418 , 2.26971361, 7.47708735, 2.61081203],\n",
    "[ 2.39252799, 3.17563985, 3.61420599, 5.10773362],\n",
    "[ 0.54983815, 2.87988651, 1.65752765, 1.59635987]])\n",
    "y = np.array([ 9.26193358, 9.700363 , 8.67214805, \n",
    "                   8.74796974, 6.18689108, 7.53312713, 7.57643777, 12.44965478, 14.29010746, 6.68361218])\n",
    "\n",
    "df = pd.DataFrame(X)     # Создаем датафрейм с признаками\n",
    "target = pd.DataFrame(y) # Датафрейм с целевой переменной\n",
    "\n",
    "# Первый набор признаков\n",
    "x0_x1 = df[[0, 1]].values   # Выбираем 0 и 1 столбец из признаков\n",
    "ones = np.ones((x0_x1.shape[0], 1)) # Столбец единиц\n",
    "x0_x1_1 = np.hstack((ones, x0_x1))  # Пришиваем к выбранным признакам\n",
    "\n",
    "XTX = x0_x1_1.T.dot(x0_x1_1)\n",
    "np.linalg.det(XTX)        # Считаем определитель"
   ]
  },
  {
   "cell_type": "markdown",
   "id": "35343fe7",
   "metadata": {},
   "source": [
    "Определетель не равен нулю, значит метод можно использовать"
   ]
  },
  {
   "cell_type": "code",
   "execution_count": 2,
   "id": "6fbe4cf9",
   "metadata": {},
   "outputs": [
    {
     "name": "stdout",
     "output_type": "stream",
     "text": [
      "[[6.70781579]\n",
      " [0.40786841]\n",
      " [1.03360247]]\n"
     ]
    }
   ],
   "source": [
    "XTX_inv = np.linalg.inv(XTX)\n",
    "\n",
    "b = XTX_inv.dot(x0_x1_1.T).dot(target)\n",
    "\n",
    "print(b)"
   ]
  },
  {
   "cell_type": "markdown",
   "id": "cf574925",
   "metadata": {},
   "source": [
    "Уравнение линейной регрессии будет иметь вид:\n",
    "$$\n",
    "y = 6.70781579 + 0.40786841x_0 + 1.03360247x_1$$ "
   ]
  },
  {
   "cell_type": "code",
   "execution_count": 3,
   "id": "71a509d4",
   "metadata": {},
   "outputs": [
    {
     "name": "stdout",
     "output_type": "stream",
     "text": [
      "<class 'sklearn.linear_model._base.LinearRegression'>\n"
     ]
    },
    {
     "data": {
      "text/plain": [
       "(array([6.70781579]), array([[0.        , 0.40786841, 1.03360247]]))"
      ]
     },
     "execution_count": 3,
     "metadata": {},
     "output_type": "execute_result"
    }
   ],
   "source": [
    "from sklearn.linear_model import LinearRegression\n",
    "model_x0_x1 = LinearRegression().fit(x0_x1_1, target)\n",
    "print(type(model_x0_x1))\n",
    "model_x0_x1.intercept_, model_x0_x1.coef_"
   ]
  },
  {
   "cell_type": "markdown",
   "id": "e8a4f6ab",
   "metadata": {},
   "source": [
    "Коэффициенты совпадают, значит расчеты проведены правильно"
   ]
  },
  {
   "cell_type": "code",
   "execution_count": 4,
   "id": "7b139c0f",
   "metadata": {},
   "outputs": [],
   "source": [
    "def sum_of_squares(samples):\n",
    "    return ((samples - samples.mean()) ** 2).sum()"
   ]
  },
  {
   "cell_type": "code",
   "execution_count": 5,
   "id": "a351b282",
   "metadata": {},
   "outputs": [
    {
     "data": {
      "text/plain": [
       "0    0.181136\n",
       "dtype: float64"
      ]
     },
     "execution_count": 5,
     "metadata": {},
     "output_type": "execute_result"
    }
   ],
   "source": [
    "z1 = x0_x1_1.dot(b)\n",
    "R1 = 1 - ((target - z1)**2).sum() / sum_of_squares(target)\n",
    "R1"
   ]
  },
  {
   "cell_type": "markdown",
   "id": "52fbf05e",
   "metadata": {},
   "source": [
    "$R^2$ для признаков $x_0$ и $x_1$ равен 0,18"
   ]
  },
  {
   "cell_type": "code",
   "execution_count": 6,
   "id": "b7f0ad53",
   "metadata": {},
   "outputs": [
    {
     "data": {
      "text/plain": [
       "2835.3600226240965"
      ]
     },
     "execution_count": 6,
     "metadata": {},
     "output_type": "execute_result"
    }
   ],
   "source": [
    "# Второй набор признаков\n",
    "x0_x2 = df[[0, 2]].values   # Выбираем 0 и 2 столбец из признаков\n",
    "x0_x2_1 = np.hstack((ones, x0_x2))  # Пришиваем столбец единиц к выбранным признакам\n",
    "\n",
    "XTX = x0_x2_1.T.dot(x0_x2_1)\n",
    "np.linalg.det(XTX)        # Считаем определитель"
   ]
  },
  {
   "cell_type": "code",
   "execution_count": 7,
   "id": "8fa6e4b6",
   "metadata": {},
   "outputs": [
    {
     "name": "stdout",
     "output_type": "stream",
     "text": [
      "[[3.62455695]\n",
      " [1.62531203]\n",
      " [1.21134979]]\n"
     ]
    }
   ],
   "source": [
    "XTX_inv = np.linalg.inv(XTX)\n",
    "\n",
    "b = XTX_inv.dot(x0_x2_1.T).dot(target)\n",
    "\n",
    "print(b) # Коэффициенты для второго набора"
   ]
  },
  {
   "cell_type": "code",
   "execution_count": 8,
   "id": "b5aa75bb",
   "metadata": {},
   "outputs": [
    {
     "data": {
      "text/plain": [
       "0    0.763425\n",
       "dtype: float64"
      ]
     },
     "execution_count": 8,
     "metadata": {},
     "output_type": "execute_result"
    }
   ],
   "source": [
    "z2 = x0_x2_1.dot(b)\n",
    "R2 = 1 - ((target - z2)**2).sum() / sum_of_squares(target)\n",
    "R2"
   ]
  },
  {
   "cell_type": "markdown",
   "id": "2036fbf3",
   "metadata": {},
   "source": [
    "$R^2$ для признаков $x_0$ и $x_2$ равен 0,76"
   ]
  },
  {
   "cell_type": "code",
   "execution_count": 9,
   "id": "f819b503",
   "metadata": {},
   "outputs": [
    {
     "data": {
      "text/plain": [
       "1689.2124743606096"
      ]
     },
     "execution_count": 9,
     "metadata": {},
     "output_type": "execute_result"
    }
   ],
   "source": [
    "# Третий набор признаков\n",
    "x0_x3 = df[[0, 3]].values   # Выбираем 0 и 3 столбец из признаков\n",
    "x0_x3_1 = np.hstack((ones, x0_x3))  # Пришиваем столбец единиц к выбранным признакам\n",
    "\n",
    "XTX = x0_x3_1.T.dot(x0_x3_1)\n",
    "np.linalg.det(XTX)        # Считаем определитель"
   ]
  },
  {
   "cell_type": "code",
   "execution_count": 10,
   "id": "4a95ce14",
   "metadata": {},
   "outputs": [
    {
     "name": "stdout",
     "output_type": "stream",
     "text": [
      "[[5.70686123]\n",
      " [0.68359949]\n",
      " [1.12650707]]\n"
     ]
    }
   ],
   "source": [
    "XTX_inv = np.linalg.inv(XTX)\n",
    "\n",
    "b = XTX_inv.dot(x0_x3_1.T).dot(target)\n",
    "\n",
    "print(b) # Коэффициенты для третьего набора"
   ]
  },
  {
   "cell_type": "code",
   "execution_count": 11,
   "id": "7596bdda",
   "metadata": {},
   "outputs": [
    {
     "data": {
      "text/plain": [
       "0    0.453297\n",
       "dtype: float64"
      ]
     },
     "execution_count": 11,
     "metadata": {},
     "output_type": "execute_result"
    }
   ],
   "source": [
    "z3 = x0_x3_1.dot(b)\n",
    "R2 = 1 - ((target - z3)**2).sum() / sum_of_squares(target)\n",
    "R2"
   ]
  },
  {
   "cell_type": "markdown",
   "id": "43ed09ee",
   "metadata": {},
   "source": [
    "$R^2$ для признаков $x_0$ и $x_3$ равен 0,45"
   ]
  },
  {
   "cell_type": "code",
   "execution_count": 12,
   "id": "b21cf64c",
   "metadata": {},
   "outputs": [
    {
     "data": {
      "text/plain": [
       "1427.8125776081442"
      ]
     },
     "execution_count": 12,
     "metadata": {},
     "output_type": "execute_result"
    }
   ],
   "source": [
    "# Четвертый набор признаков\n",
    "x1_x2 = df[[1, 2]].values   # Выбираем 1 и 2 столбец из признаков\n",
    "x1_x2_1 = np.hstack((ones, x1_x2))  # Пришиваем столбец единиц к выбранным признакам\n",
    "\n",
    "XTX = x1_x2_1.T.dot(x1_x2_1)\n",
    "np.linalg.det(XTX)        # Считаем определитель"
   ]
  },
  {
   "cell_type": "code",
   "execution_count": 13,
   "id": "251cb87e",
   "metadata": {},
   "outputs": [
    {
     "name": "stdout",
     "output_type": "stream",
     "text": [
      "[[2.48896193]\n",
      " [1.60611956]\n",
      " [0.86269915]]\n"
     ]
    }
   ],
   "source": [
    "XTX_inv = np.linalg.inv(XTX)\n",
    "\n",
    "b = XTX_inv.dot(x1_x2_1.T).dot(target)\n",
    "\n",
    "print(b) # Коэффициенты для четвертого набора"
   ]
  },
  {
   "cell_type": "code",
   "execution_count": 14,
   "id": "eb32fbdc",
   "metadata": {},
   "outputs": [
    {
     "data": {
      "text/plain": [
       "0    0.547948\n",
       "dtype: float64"
      ]
     },
     "execution_count": 14,
     "metadata": {},
     "output_type": "execute_result"
    }
   ],
   "source": [
    "z4 = x1_x2_1.dot(b)\n",
    "R2 = 1 - ((target - z4)**2).sum() / sum_of_squares(target)\n",
    "R2"
   ]
  },
  {
   "cell_type": "markdown",
   "id": "84f5177c",
   "metadata": {},
   "source": [
    "$R^2$ для признаков $x_1$ и $x_2$ равен 0,55"
   ]
  },
  {
   "cell_type": "code",
   "execution_count": 15,
   "id": "372fb7b0",
   "metadata": {},
   "outputs": [
    {
     "data": {
      "text/plain": [
       "701.7327364453139"
      ]
     },
     "execution_count": 15,
     "metadata": {},
     "output_type": "execute_result"
    }
   ],
   "source": [
    "# Пятый набор признаков\n",
    "x1_x3 = df[[1, 3]].values   # Выбираем 1 и 3 столбец из признаков\n",
    "x1_x3_1 = np.hstack((ones, x1_x3))  # Пришиваем столбец единиц к выбранным признакам\n",
    "\n",
    "XTX = x1_x3_1.T.dot(x1_x3_1)\n",
    "np.linalg.det(XTX)        # Считаем определитель"
   ]
  },
  {
   "cell_type": "code",
   "execution_count": 16,
   "id": "bea3a118",
   "metadata": {},
   "outputs": [
    {
     "name": "stdout",
     "output_type": "stream",
     "text": [
      "[[1.91685221]\n",
      " [1.74373667]\n",
      " [1.31971882]]\n"
     ]
    }
   ],
   "source": [
    "XTX_inv = np.linalg.inv(XTX)\n",
    "\n",
    "b = XTX_inv.dot(x1_x3_1.T).dot(target)\n",
    "\n",
    "print(b) # Коэффициенты для пятого набора"
   ]
  },
  {
   "cell_type": "code",
   "execution_count": 17,
   "id": "9328889e",
   "metadata": {},
   "outputs": [
    {
     "data": {
      "text/plain": [
       "0    0.606206\n",
       "dtype: float64"
      ]
     },
     "execution_count": 17,
     "metadata": {},
     "output_type": "execute_result"
    }
   ],
   "source": [
    "z5 = x1_x3_1.dot(b)\n",
    "R2 = 1 - ((target - z5)**2).sum() / sum_of_squares(target)\n",
    "R2"
   ]
  },
  {
   "cell_type": "markdown",
   "id": "4ce79fd0",
   "metadata": {},
   "source": [
    "$R^2$ для признаков $x_1$ и $x_3$ равен 0,61"
   ]
  },
  {
   "cell_type": "code",
   "execution_count": 18,
   "id": "8dca46a7",
   "metadata": {},
   "outputs": [
    {
     "data": {
      "text/plain": [
       "4547.328074863329"
      ]
     },
     "execution_count": 18,
     "metadata": {},
     "output_type": "execute_result"
    }
   ],
   "source": [
    "# Шестой набор признаков\n",
    "x2_x3 = df[[2, 3]].values   # Выбираем 2 и 3 столбец из признаков\n",
    "x2_x3_1 = np.hstack((ones, x2_x3))  # Пришиваем столбец единиц к выбранным признакам\n",
    "\n",
    "XTX = x2_x3_1.T.dot(x2_x3_1)\n",
    "np.linalg.det(XTX)        # Считаем определитель"
   ]
  },
  {
   "cell_type": "code",
   "execution_count": 19,
   "id": "86c83f43",
   "metadata": {},
   "outputs": [
    {
     "name": "stdout",
     "output_type": "stream",
     "text": [
      "[[3.64001086]\n",
      " [0.70753914]\n",
      " [1.04851745]]\n"
     ]
    }
   ],
   "source": [
    "XTX_inv = np.linalg.inv(XTX)\n",
    "\n",
    "b = XTX_inv.dot(x2_x3_1.T).dot(target)\n",
    "\n",
    "print(b) # Коэффициенты для пятого набора"
   ]
  },
  {
   "cell_type": "code",
   "execution_count": 20,
   "id": "88256d6b",
   "metadata": {},
   "outputs": [
    {
     "data": {
      "text/plain": [
       "0    0.622442\n",
       "dtype: float64"
      ]
     },
     "execution_count": 20,
     "metadata": {},
     "output_type": "execute_result"
    }
   ],
   "source": [
    "z6 = x2_x3_1.dot(b)\n",
    "R2 = 1 - ((target - z6)**2).sum() / sum_of_squares(target)\n",
    "R2"
   ]
  },
  {
   "cell_type": "markdown",
   "id": "497569a8",
   "metadata": {},
   "source": [
    "$R^2$ для признаков $x_2$ и $x_3$ равен 0,62"
   ]
  },
  {
   "cell_type": "markdown",
   "id": "4823c371",
   "metadata": {},
   "source": [
    "Максимальный $R^2$ получился для набора признаков $x_0$ и $x_2$ и равен 0,76"
   ]
  },
  {
   "cell_type": "markdown",
   "id": "8b943b83",
   "metadata": {},
   "source": [
    "Проверим полученное уравнение регрессии на значимость"
   ]
  },
  {
   "cell_type": "code",
   "execution_count": 21,
   "id": "70b4265a",
   "metadata": {},
   "outputs": [
    {
     "data": {
      "text/plain": [
       "(2, 7)"
      ]
     },
     "execution_count": 21,
     "metadata": {},
     "output_type": "execute_result"
    }
   ],
   "source": [
    "n = x0_x2.shape[0]\n",
    "m = x0_x2.shape[1]\n",
    "\n",
    "k1 = m\n",
    "k2 = n - m - 1\n",
    "\n",
    "k1, k2"
   ]
  },
  {
   "cell_type": "code",
   "execution_count": 22,
   "id": "f32a0b57",
   "metadata": {},
   "outputs": [
    {
     "data": {
      "text/plain": [
       "4.73741412777588"
      ]
     },
     "execution_count": 22,
     "metadata": {},
     "output_type": "execute_result"
    }
   ],
   "source": [
    "from scipy import stats\n",
    "\n",
    "alpha = 0.05 # Уровень значимости\n",
    "\n",
    "t = stats.f.ppf(1 - alpha, k1, k2) # Определяем критическую область\n",
    "t"
   ]
  },
  {
   "cell_type": "markdown",
   "id": "8a4141fa",
   "metadata": {},
   "source": [
    "Пересчитаем коэффициенты второго набора, чтобы не было ошибок с переопределением"
   ]
  },
  {
   "cell_type": "code",
   "execution_count": 23,
   "id": "ae87c337",
   "metadata": {},
   "outputs": [
    {
     "data": {
      "text/plain": [
       "2835.3600226240965"
      ]
     },
     "execution_count": 23,
     "metadata": {},
     "output_type": "execute_result"
    }
   ],
   "source": [
    "# Второй набор признаков\n",
    "x0_x2 = df[[0, 2]].values   # Выбираем 0 и 2 столбец из признаков\n",
    "x0_x2_1 = np.hstack((ones, x0_x2))  # Пришиваем столбец единиц к выбранным признакам\n",
    "\n",
    "XTX = x0_x2_1.T.dot(x0_x2_1)\n",
    "np.linalg.det(XTX)        # Считаем определитель"
   ]
  },
  {
   "cell_type": "code",
   "execution_count": 24,
   "id": "e10ce56a",
   "metadata": {},
   "outputs": [
    {
     "name": "stdout",
     "output_type": "stream",
     "text": [
      "[[3.62455695]\n",
      " [1.62531203]\n",
      " [1.21134979]]\n"
     ]
    }
   ],
   "source": [
    "XTX_inv = np.linalg.inv(XTX)\n",
    "\n",
    "b = XTX_inv.dot(x0_x2_1.T).dot(target)\n",
    "\n",
    "print(b) # Коэффициенты для второго набора"
   ]
  },
  {
   "cell_type": "code",
   "execution_count": 25,
   "id": "83b4ebad",
   "metadata": {},
   "outputs": [
    {
     "data": {
      "text/plain": [
       "0    0.763425\n",
       "dtype: float64"
      ]
     },
     "execution_count": 25,
     "metadata": {},
     "output_type": "execute_result"
    }
   ],
   "source": [
    "z2 = x0_x2_1.dot(b)\n",
    "R2 = 1 - ((target - z2)**2).sum() / sum_of_squares(target) # Переопределяем R2 чтобы не ошибиться\n",
    "R2"
   ]
  },
  {
   "cell_type": "code",
   "execution_count": 26,
   "id": "489429eb",
   "metadata": {},
   "outputs": [
    {
     "data": {
      "text/plain": [
       "0    11.294439\n",
       "dtype: float64"
      ]
     },
     "execution_count": 26,
     "metadata": {},
     "output_type": "execute_result"
    }
   ],
   "source": [
    "F = (R2 / k1) / ((1 - R2) / k2)\n",
    "F"
   ]
  },
  {
   "cell_type": "markdown",
   "id": "b9956b5a",
   "metadata": {},
   "source": [
    "Значение статистики попадает в критическую область, тем самым уравнение регрессии признается значимым. "
   ]
  },
  {
   "cell_type": "markdown",
   "id": "2395ba70",
   "metadata": {},
   "source": [
    "<b>Задача 2</b>\n",
    "\n",
    "Даны значения величины заработной платы заемщиков банка (salary) и значения их поведенческого кредитного скоринга (scoring):\n",
    "\n",
    "salary = [35, 45, 190, 200, 40, 70, 54, 150, 120, 110]\n",
    "scoring = [401, 574, 874, 919, 459, 739, 653, 902, 746, 832]\n",
    "Возьмём в качестве признака значение salary, а в качестве целевой переменной - scoring.\n",
    "\n",
    "1. Найдите коэффициенты линейной регрессии с помощью формул для парной регрессии, а затем с помощью метода наименьших квадратов.\n",
    "2. Постройте scatter plot по данным и отметьте на нём прямую линейной регрессии, полученную в п. 1.\n",
    "3. Посчитайте коэффициент детерминации.\n",
    "4. Оцените построенное уравнение регрессии с помощью F-критерия Фишера.\n",
    "5. (доп) Посчитать среднюю ошибку аппроксимации"
   ]
  },
  {
   "cell_type": "code",
   "execution_count": 27,
   "id": "58bb35fe",
   "metadata": {},
   "outputs": [],
   "source": [
    "salary = np.array([35, 45, 190, 200, 40, 70, 54, 150, 120, 110])\n",
    "scoring = np.array([401, 574, 874, 919, 459, 739, 653, 902, 746, 832])"
   ]
  },
  {
   "cell_type": "code",
   "execution_count": 28,
   "id": "511fb333",
   "metadata": {},
   "outputs": [
    {
     "data": {
      "text/plain": [
       "(444.1773573243596, 2.620538882402765)"
      ]
     },
     "execution_count": 28,
     "metadata": {},
     "output_type": "execute_result"
    }
   ],
   "source": [
    "# Вопрос 1. Найдите коэффициенты линейной регрессии с помощью формул для парной регрессии, \n",
    "# а затем с помощью метода наименьших квадратов.\n",
    "### Уравнение для парной регрессии\n",
    "b1 = (np.mean(salary * scoring) - np.mean(salary) * np.mean(scoring)) / (np.mean(salary ** 2) - np.mean(salary) ** 2)\n",
    "b0 = np.mean(scoring) - b1 * np.mean(salary)\n",
    "\n",
    "b0, b1"
   ]
  },
  {
   "cell_type": "code",
   "execution_count": 29,
   "id": "21d58d02",
   "metadata": {},
   "outputs": [
    {
     "data": {
      "text/plain": [
       "349464.00000000023"
      ]
     },
     "execution_count": 29,
     "metadata": {},
     "output_type": "execute_result"
    }
   ],
   "source": [
    "### Метод наименьших квадратов\n",
    "x = pd.DataFrame(salary)\n",
    "y = pd.DataFrame(scoring)\n",
    "\n",
    "\n",
    "ones_2 = np.ones((x.shape[0], 1)) # Столбец единиц\n",
    "x_1 = np.hstack((ones_2, x))  # Пришиваем к выбранным признакам\n",
    "\n",
    "XTX = x_1.T.dot(x_1)\n",
    "np.linalg.det(XTX)        # Считаем определитель"
   ]
  },
  {
   "cell_type": "code",
   "execution_count": 30,
   "id": "3c331975",
   "metadata": {},
   "outputs": [
    {
     "name": "stdout",
     "output_type": "stream",
     "text": [
      "[[444.17735732]\n",
      " [  2.62053888]]\n"
     ]
    }
   ],
   "source": [
    "XTX_inv = np.linalg.inv(XTX)\n",
    "\n",
    "b = XTX_inv.dot(x_1.T).dot(y)\n",
    "\n",
    "print(b) # Коэффициенты по методу МНК"
   ]
  },
  {
   "cell_type": "markdown",
   "id": "2919b109",
   "metadata": {},
   "source": [
    "Коэффициенты в обоих методах расчета совпадают, значит расчеты произведены правильно."
   ]
  },
  {
   "cell_type": "code",
   "execution_count": 31,
   "id": "3732b605",
   "metadata": {},
   "outputs": [
    {
     "data": {
      "text/plain": [
       "[<matplotlib.lines.Line2D at 0x2c2fbad4460>]"
      ]
     },
     "execution_count": 31,
     "metadata": {},
     "output_type": "execute_result"
    },
    {
     "data": {
      "image/png": "[encoded data removed]",
      "text/plain": [
       "<Figure size 432x288 with 1 Axes>"
      ]
     },
     "metadata": {
      "needs_background": "light"
     },
     "output_type": "display_data"
    }
   ],
   "source": [
    "# Вопрос 2. Постройте scatter plot по данным и отметьте на нём прямую линейной регрессии, полученную в п. 1.\n",
    "from matplotlib import pyplot as plt\n",
    "ox = salary\n",
    "oy = scoring\n",
    "y = b[0] + b[1]*ox\n",
    "\n",
    "plt.scatter(ox, oy)\n",
    "plt.plot(ox, y, color='red')"
   ]
  },
  {
   "cell_type": "code",
   "execution_count": 32,
   "id": "12ffff12",
   "metadata": {},
   "outputs": [
    {
     "data": {
      "text/plain": [
       "0.7876386635293686"
      ]
     },
     "execution_count": 32,
     "metadata": {},
     "output_type": "execute_result"
    }
   ],
   "source": [
    "# Вопрос 3. Посчитайте коэффициент детерминации.\n",
    "R_2 = 1 - ((oy - y)**2).sum() / sum_of_squares(oy)\n",
    "R_2"
   ]
  },
  {
   "cell_type": "code",
   "execution_count": 33,
   "id": "619cd926",
   "metadata": {},
   "outputs": [
    {
     "data": {
      "text/plain": [
       "5.317655071578714"
      ]
     },
     "execution_count": 33,
     "metadata": {},
     "output_type": "execute_result"
    }
   ],
   "source": [
    "# Вопрос 4.Оцените построенное уравнение регрессии с помощью F-критерия Фишера.\n",
    "n = ox.shape[0]\n",
    "m = 1\n",
    "k1 = m\n",
    "k2 = n - m - 1\n",
    "alpha = 0.05\n",
    "\n",
    "t = stats.f.ppf(1 - alpha, k1, k2)   # Находим критическую область\n",
    "t"
   ]
  },
  {
   "cell_type": "code",
   "execution_count": 34,
   "id": "561ea54d",
   "metadata": {},
   "outputs": [
    {
     "data": {
      "text/plain": [
       "29.67164085966451"
      ]
     },
     "execution_count": 34,
     "metadata": {},
     "output_type": "execute_result"
    }
   ],
   "source": [
    "F = (R_2 / k1) / ((1 - R_2) / k2)\n",
    "F"
   ]
  },
  {
   "cell_type": "markdown",
   "id": "51277c77",
   "metadata": {},
   "source": [
    "Значение статистики попадает в критическую область, тем самым уравнение регрессии признается значимым."
   ]
  },
  {
   "cell_type": "markdown",
   "id": "debf5c8d",
   "metadata": {},
   "source": [
    "Вопрос 5. (доп) Посчитать среднюю ошибку аппроксимации\n",
    "$$\\overline{A} = \\frac{1}{n} \\displaystyle\\sum_{i=1}^{n} \\Bigl| {{\\frac{y_i - z_i}{y_i}} \\Bigr|}.$$"
   ]
  },
  {
   "cell_type": "code",
   "execution_count": 79,
   "id": "aafce5f1",
   "metadata": {},
   "outputs": [
    {
     "name": "stdout",
     "output_type": "stream",
     "text": [
      "Средняя ошибка аппроксимации равна: 11.47%\n"
     ]
    }
   ],
   "source": [
    "A = (abs((oy - y) / oy)).sum() / n\n",
    "print(f'Средняя ошибка аппроксимации равна: {A*100:.2f}%')"
   ]
  }
 ],
 "metadata": {
  "kernelspec": {
   "display_name": "Python 3",
   "language": "python",
   "name": "python3"
  },
  "language_info": {
   "codemirror_mode": {
    "name": "ipython",
    "version": 3
   },
   "file_extension": ".py",
   "mimetype": "text/x-python",
   "name": "python",
   "nbconvert_exporter": "python",
   "pygments_lexer": "ipython3",
   "version": "3.8.8"
  }
 },
 "nbformat": 4,
 "nbformat_minor": 5
}
