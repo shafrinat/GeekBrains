{
 "cells": [
  {
   "cell_type": "markdown",
   "id": "c929f817",
   "metadata": {},
   "source": [
    "### Теория вероятностей и математическая статистика\n",
    "##### Домашнее задание к уроку 6"
   ]
  },
  {
   "cell_type": "markdown",
   "id": "29f89c3a",
   "metadata": {},
   "source": [
    "<b>Задача 1</b>\n",
    "\n",
    "Даны значения величины заработной платы заемщиков банка (salary) и значения их поведенческого кредитного скоринга (scoring):\n",
    "\n",
    "salary = [35, 45, 190, 200, 40, 70, 54, 150, 120, 110]\n",
    "scoring = [401, 574, 874, 919, 459, 739, 653, 902, 746, 832]\n",
    "\n",
    "1. Найдите ковариацию этих двух величин: сначала без использования специальных функций, а затем с помощью функции numpy.cov. Полученные значения должны быть равны.\n",
    "2. Найдите коэффициент корреляции Пирсона: с помощью ковариации и средних квадратических отклонений двух признаков, а затем с помощью специальных функций из библиотек numpy и pandas."
   ]
  },
  {
   "cell_type": "code",
   "execution_count": 9,
   "id": "beeae480",
   "metadata": {},
   "outputs": [
    {
     "data": {
      "text/plain": [
       "10175.37777777778"
      ]
     },
     "execution_count": 9,
     "metadata": {},
     "output_type": "execute_result"
    }
   ],
   "source": [
    "import numpy as np\n",
    "import pandas as pd\n",
    "\n",
    "salary = np.array([35, 45, 190, 200, 40, 70, 54, 150, 120, 110])\n",
    "scoring = np.array([401, 574, 874, 919, 459, 739, 653, 902, 746, 832])\n",
    "\n",
    "# 1. Считаем ковариацию вручную\n",
    "m_salary = salary.mean()\n",
    "m_scoring = scoring.mean()\n",
    "\n",
    "cov = ((salary - m_salary) * (scoring - m_scoring)).sum() / (salary.shape[0] - 1)\n",
    "cov"
   ]
  },
  {
   "cell_type": "code",
   "execution_count": 4,
   "id": "41611658",
   "metadata": {},
   "outputs": [
    {
     "data": {
      "text/plain": [
       "10175.377777777778"
      ]
     },
     "execution_count": 4,
     "metadata": {},
     "output_type": "execute_result"
    }
   ],
   "source": [
    "# Считаем ковариацию при помощи встроенной функции\n",
    "np.cov(salary, scoring)[0, 1]"
   ]
  },
  {
   "cell_type": "code",
   "execution_count": 6,
   "id": "cd3fc1d3",
   "metadata": {},
   "outputs": [
    {
     "data": {
      "text/plain": [
       "0.8874900920739164"
      ]
     },
     "execution_count": 6,
     "metadata": {},
     "output_type": "execute_result"
    }
   ],
   "source": [
    "# 2. Коэфициент корреляции Пирсона, считаем вручную\n",
    "pirson_corr = cov / (salary.std(ddof = 1) * scoring.std(ddof = 1))\n",
    "pirson_corr"
   ]
  },
  {
   "cell_type": "code",
   "execution_count": 13,
   "id": "d7040807",
   "metadata": {},
   "outputs": [
    {
     "data": {
      "text/html": [
       "<div>\n",
       "<style scoped>\n",
       "    .dataframe tbody tr th:only-of-type {\n",
       "        vertical-align: middle;\n",
       "    }\n",
       "\n",
       "    .dataframe tbody tr th {\n",
       "        vertical-align: top;\n",
       "    }\n",
       "\n",
       "    .dataframe thead th {\n",
       "        text-align: right;\n",
       "    }\n",
       "</style>\n",
       "<table border=\"1\" class=\"dataframe\">\n",
       "  <thead>\n",
       "    <tr style=\"text-align: right;\">\n",
       "      <th></th>\n",
       "      <th>salary</th>\n",
       "      <th>scoring</th>\n",
       "    </tr>\n",
       "  </thead>\n",
       "  <tbody>\n",
       "    <tr>\n",
       "      <th>salary</th>\n",
       "      <td>1.00000</td>\n",
       "      <td>0.88749</td>\n",
       "    </tr>\n",
       "    <tr>\n",
       "      <th>scoring</th>\n",
       "      <td>0.88749</td>\n",
       "      <td>1.00000</td>\n",
       "    </tr>\n",
       "  </tbody>\n",
       "</table>\n",
       "</div>"
      ],
      "text/plain": [
       "          salary  scoring\n",
       "salary   1.00000  0.88749\n",
       "scoring  0.88749  1.00000"
      ]
     },
     "execution_count": 13,
     "metadata": {},
     "output_type": "execute_result"
    }
   ],
   "source": [
    "# Коэфициент корреляции Пирсона, считаем при помощи встроенных функций\n",
    "data = {'salary': salary, 'scoring': scoring}\n",
    "df = pd.DataFrame(data)\n",
    "# Функция .corr() из библиотеки pandas\n",
    "df[['salary', 'scoring']].corr()"
   ]
  },
  {
   "cell_type": "code",
   "execution_count": 14,
   "id": "e01466fc",
   "metadata": {},
   "outputs": [
    {
     "data": {
      "text/plain": [
       "array([[1.        , 0.88749009],\n",
       "       [0.88749009, 1.        ]])"
      ]
     },
     "execution_count": 14,
     "metadata": {},
     "output_type": "execute_result"
    }
   ],
   "source": [
    "# Функция np.corrcoef() из библиотеки numpy\n",
    "np.corrcoef(salary, scoring)"
   ]
  },
  {
   "cell_type": "markdown",
   "id": "06c72f00",
   "metadata": {},
   "source": [
    "<b>Задача 2</b>\n",
    "\n",
    "Измерены значения IQ выборки студентов, обучающихся в местных технических вузах:\n",
    "\n",
    "131, 125, 115, 122, 131, 115, 107, 99, 125, 111\n",
    "\n",
    "Известно, что в генеральной совокупности IQ распределен нормально. Найдите доверительный интервал для математического ожидания с надежностью 0.95."
   ]
  },
  {
   "cell_type": "markdown",
   "id": "cfed2e0f",
   "metadata": {},
   "source": [
    "Нам неизвестны ни СКО, ни дисперсия генеральной совокупности, поэтому будем использовать t-статистику и распределение Стьюдента."
   ]
  },
  {
   "cell_type": "markdown",
   "id": "93749a41",
   "metadata": {},
   "source": [
    "$$P \\left( \\overline{X} + t_{\\alpha / 2, \\: n - 1} \\cdot \\dfrac{\\sigma_X}{\\sqrt{n}} \\leq \\mu \\leq \\overline{X} + t_{1 - \\alpha / 2, \\: n - 1} \\cdot \\dfrac{\\sigma_X}{\\sqrt{n}} \\right) = p$$"
   ]
  },
  {
   "cell_type": "code",
   "execution_count": 20,
   "id": "f0b415d6",
   "metadata": {},
   "outputs": [
    {
     "name": "stdout",
     "output_type": "stream",
     "text": [
      "Доверительный интервал математического ожидания: (110.5561; 125.6439)\n"
     ]
    }
   ],
   "source": [
    "from scipy import stats\n",
    "import math as m\n",
    "\n",
    "# Входные данные\n",
    "iq = np.array([131, 125, 115, 122, 131, 115, 107, 99, 125, 111])\n",
    "n = iq.shape[0]\n",
    "p = 0.95\n",
    "alpha = 1 - p\n",
    "ave_iq = iq.mean()\n",
    "\n",
    "# Считаем квантили\n",
    "t1 = stats.t.ppf(alpha / 2, df = n - 1)\n",
    "t2 = stats.t.ppf(1 - alpha / 2, df = n - 1)\n",
    "\n",
    "# Считаем оценку СКО - выборочное среднее квадратическое отклонение\n",
    "sigma_x = iq.std(ddof = 1)\n",
    "\n",
    "# Левая и правая границы доверительного интервала математического ожидания:\n",
    "left_p = ave_iq + t1 * sigma_x / m.sqrt(n)  \n",
    "right_p = ave_iq + t2 * sigma_x / m.sqrt(n)\n",
    "\n",
    "print (f'Доверительный интервал математического ожидания: ({left_p:.4f}; {right_p:.4f})')"
   ]
  },
  {
   "cell_type": "markdown",
   "id": "25ed1587",
   "metadata": {},
   "source": [
    "<b>Задача 3</b>\n",
    "\n",
    "Известно, что рост футболистов в сборной распределен нормально с известной дисперсией 25. На выборке объёма 27 выборочное среднее составило 174.2. Найдите доверительный интервал для математического ожидания с надежностью 0.95."
   ]
  },
  {
   "cell_type": "markdown",
   "id": "2f4509d6",
   "metadata": {},
   "source": [
    "Нам известна дисперсия, а также то, что данные распределены нормально. Поэтому будем использовать Z-статистику."
   ]
  },
  {
   "cell_type": "markdown",
   "id": "61aba93f",
   "metadata": {},
   "source": [
    "$$P \\left( \\overline{X} + t_{\\alpha / 2} \\cdot \\dfrac{\\sigma}{\\sqrt{n}} \\leq \\mu \\leq \\overline{X} + t_{1 - \\alpha / 2} \\cdot \\dfrac{\\sigma}{\\sqrt{n}} \\right) = p$$"
   ]
  },
  {
   "cell_type": "code",
   "execution_count": 22,
   "id": "b503e12a",
   "metadata": {},
   "outputs": [
    {
     "name": "stdout",
     "output_type": "stream",
     "text": [
      "Доверительный интервал для математического ожидания: (172.3140; 176.0860)\n"
     ]
    }
   ],
   "source": [
    "# Входные данные\n",
    "n = 27\n",
    "p = 0.95\n",
    "alpha = 1 - p\n",
    "ave_height = 174.2\n",
    "sq_sigma = 25\n",
    "\n",
    "#Вычисляем квантили\n",
    "t1 = stats.norm.ppf(alpha / 2)     \n",
    "t2 = stats.norm.ppf(1 - alpha / 2)\n",
    "\n",
    "# Левая и правая границы доверительного интервала\n",
    "left_point = ave_height + t1 * m.sqrt(sq_sigma) / m.sqrt(n)  \n",
    "right_point = ave_height + t2 * m.sqrt(sq_sigma) / m.sqrt(n)\n",
    "\n",
    "print (f'Доверительный интервал для математического ожидания: ({left_point:.4f}; {right_point:.4f})')"
   ]
  }
 ],
 "metadata": {
  "kernelspec": {
   "display_name": "Python 3",
   "language": "python",
   "name": "python3"
  },
  "language_info": {
   "codemirror_mode": {
    "name": "ipython",
    "version": 3
   },
   "file_extension": ".py",
   "mimetype": "text/x-python",
   "name": "python",
   "nbconvert_exporter": "python",
   "pygments_lexer": "ipython3",
   "version": "3.8.8"
  }
 },
 "nbformat": 4,
 "nbformat_minor": 5
}
