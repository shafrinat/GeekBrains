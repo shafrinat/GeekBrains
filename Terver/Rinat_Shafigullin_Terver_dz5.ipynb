{
 "cells": [
  {
   "cell_type": "markdown",
   "id": "ff5ba411",
   "metadata": {},
   "source": [
    "### Теория вероятностей и математическая статистика\n",
    "##### Домашнее задание к уроку 5"
   ]
  },
  {
   "cell_type": "markdown",
   "id": "37084816",
   "metadata": {},
   "source": [
    "<b>Задача 1</b>\n",
    "<br>\n",
    "<br>\n",
    "Известно, что генеральная совокупность распределена нормально с известным средним квадратическим отклонением 16. Найти доверительный интервал для оценки математического ожидания mu с надежностью 0,95 (доверительная информация), если выборочное среднее равно 80, а объем равен 256."
   ]
  },
  {
   "cell_type": "markdown",
   "id": "9eb22698",
   "metadata": {},
   "source": [
    "Для начала: надежность 0,95 означает, что $\\alpha=0.05$. Нам известно СКО, поэтому будем использовать Z-статистику для нахождения доверительного интервала."
   ]
  },
  {
   "cell_type": "code",
   "execution_count": 1,
   "id": "27f80570",
   "metadata": {},
   "outputs": [
    {
     "name": "stdout",
     "output_type": "stream",
     "text": [
      "Доверительный интервал: (78.0400; 81.9600)\n"
     ]
    }
   ],
   "source": [
    "from scipy import stats\n",
    "import math as m\n",
    "import numpy as np\n",
    "from matplotlib import pyplot as plt\n",
    "\n",
    "n = 256\n",
    "p = 0.95\n",
    "alpha = 1 - p\n",
    "average_x = 80\n",
    "sigma = 16\n",
    "\n",
    "t1 = stats.norm.ppf(alpha / 2)     #Вычисляем квантили\n",
    "t2 = stats.norm.ppf(1 - alpha / 2)\n",
    "\n",
    "left_point = average_x + t1 * sigma / m.sqrt(n)  # Левая и правая границы доверительного интервала\n",
    "right_point = average_x + t2 * sigma / m.sqrt(n)\n",
    "\n",
    "print (f'Доверительный интервал: ({left_point:.4f}; {right_point:.4f})')"
   ]
  },
  {
   "cell_type": "markdown",
   "id": "82b12fbb",
   "metadata": {},
   "source": [
    "<b>Задача 2</b><br>\n",
    "<br>\n",
    "Продавец утверждает, что средний вес пачки печенья составляет 200 г. Из партии извлечена выборка из 10 пачек. Вес каждой пачки составляет: 202, 203, 199, 197, 195, 201, 200, 204, 194, 190. Известно, что их веса распределены нормально. <br>\n",
    "1. Верно ли утверждение продавца, если учитывать, что уровень значимости равен 1%.\n",
    "2. Найдите P-значение для данного теста."
   ]
  },
  {
   "cell_type": "markdown",
   "id": "db144794",
   "metadata": {},
   "source": [
    "Пойдем по алгоритму:\n",
    "1. Нулевая гипотеза: $H_0$ - средний вес пачки печенья составляет 200 г. Языком мат.статистики - математическое ожидание генеральной совокупности равно 200.<br>\n",
    "Альтернативная гипотеза: $H_1$ - математическое ожидание генеральной совокупности не равно 200.\n",
    "2. Нам не известно СКО, поэтому будет использовать t-статистику:\n",
    "$$\n",
    "t = \\frac{\\overline{X}-\\mu}{\\sigma_X/\\sqrt{n}}$$\n",
    "3. Уровень значимости по условию задачи равен $\\alpha = 0.01$"
   ]
  },
  {
   "cell_type": "code",
   "execution_count": 2,
   "id": "d8229fa1",
   "metadata": {},
   "outputs": [],
   "source": [
    "cookie_samples = np.array([202, 203, 199, 197, 195, 201, 200, 204, 194, 190])\n",
    "alpha = 0.01\n",
    "mu = 200\n",
    "\n",
    "def t_stat(cookie_samples):\n",
    "    return (cookie_samples.mean() - mu) / (cookie_samples.std(ddof=1) / m.sqrt(cookie_samples.shape[0]))"
   ]
  },
  {
   "cell_type": "code",
   "execution_count": 3,
   "id": "72475415",
   "metadata": {},
   "outputs": [
    {
     "data": {
      "text/plain": [
       "(-3.24983554401537, 3.2498355440153697)"
      ]
     },
     "execution_count": 3,
     "metadata": {},
     "output_type": "execute_result"
    }
   ],
   "source": [
    "# Пункт 4. Посчитаем квантили и обозначим критическую область\n",
    "# В нашем случае критическая область двухсторонняя, так как вес пачки печенья может быть и больше и меньше средней величины. Поэтому alpha\n",
    "# делим на 2\n",
    "n = cookie_samples.shape[0]\n",
    "t1 = stats.t.ppf(alpha / 2, df = n - 1)\n",
    "t2 = stats.t.ppf(1 - alpha / 2, df = n - 1)\n",
    "t1, t2"
   ]
  },
  {
   "cell_type": "code",
   "execution_count": 4,
   "id": "f7808feb",
   "metadata": {},
   "outputs": [
    {
     "data": {
      "text/plain": [
       "-1.0651074037450896"
      ]
     },
     "execution_count": 4,
     "metadata": {},
     "output_type": "execute_result"
    }
   ],
   "source": [
    "# Пункт 5. Статистический тест\n",
    "T = t_stat(cookie_samples)\n",
    "T"
   ]
  },
  {
   "cell_type": "markdown",
   "id": "a3f5242c",
   "metadata": {},
   "source": [
    "На основании проведенного стат-теста видим, что значение t-статистики не попадает в критическую область, а значит нулевая гипотеза принимается."
   ]
  },
  {
   "cell_type": "code",
   "execution_count": 5,
   "id": "49c5d3e5",
   "metadata": {},
   "outputs": [
    {
     "data": {
      "text/plain": [
       "0.31456660352472854"
      ]
     },
     "execution_count": 5,
     "metadata": {},
     "output_type": "execute_result"
    }
   ],
   "source": [
    "p_left = stats.t.cdf(T, df=n - 1)\n",
    "p_right = 1 - stats.t.cdf(T, df=n - 1)\n",
    "\n",
    "p_value = 2 * min(p_left, p_right)\n",
    "\n",
    "p_value"
   ]
  },
  {
   "cell_type": "markdown",
   "id": "4a832a43",
   "metadata": {},
   "source": [
    "Р-значение больше, чем уровень значимости. Таким образом, нулевая гипотеза принимается."
   ]
  },
  {
   "cell_type": "code",
   "execution_count": 6,
   "id": "0f199e5d",
   "metadata": {},
   "outputs": [
    {
     "data": {
      "text/plain": [
       "<matplotlib.legend.Legend at 0x210037d6be0>"
      ]
     },
     "execution_count": 6,
     "metadata": {},
     "output_type": "execute_result"
    },
    {
     "data": {
      "image/png": "[encoded data removed]",
      "text/plain": [
       "<Figure size 432x288 with 1 Axes>"
      ]
     },
     "metadata": {
      "needs_background": "light"
     },
     "output_type": "display_data"
    }
   ],
   "source": [
    "ox1 = np.linspace(-5, 5, 100)\n",
    "oy1 = stats.t.pdf(ox1, df=n-1)\n",
    "\n",
    "ox1_left = np.linspace(-5, t1, 50)\n",
    "oy1_left = stats.t.pdf(ox1_left, df=n-1)\n",
    "\n",
    "ox1_right = np.linspace(t2, 5, 50)\n",
    "oy1_right = stats.t.pdf(ox1_right, df=n-1)\n",
    "\n",
    "plt.plot(ox1, oy1, label='Нормальное распределение')\n",
    "plt.scatter(T, 0, label='t-статистика')\n",
    "plt.fill_between(ox1_left, oy1_left, color='r')\n",
    "plt.fill_between(ox1_right, oy1_right, color='r')\n",
    "plt.legend()"
   ]
  },
  {
   "cell_type": "markdown",
   "id": "fdf30e01",
   "metadata": {},
   "source": [
    "<b>Задача 3</b>\n",
    "\n",
    "Утверждается, что шарики для подшипников, изготовленные автоматическим станком, имеют средний диаметр 17 мм. Используя уровень значимости 0.025 и правостороннюю критическую область, проверить данную гипотезу при условии, что в выборке из 100 шариков средний диаметр оказался равным 17.5 мм, а дисперсия известна и равна 4 мм."
   ]
  },
  {
   "cell_type": "markdown",
   "id": "3fc4e367",
   "metadata": {},
   "source": [
    "Проверим гипотезу $H_0$ - математическое ожидание диаметра шариков равно 17 мм.<br>\n",
    "Альтернативная гипотеза - $H_1$ - математическое ожидание диаметра шариков не равно 17 мм.<br>\n",
    "Нам известна дисперсия, поэтому будем использовать Z-статистику.\n",
    "Уровень значимости $\\alpha = 0.025$"
   ]
  },
  {
   "cell_type": "code",
   "execution_count": 7,
   "id": "c1189b46",
   "metadata": {},
   "outputs": [
    {
     "data": {
      "text/plain": [
       "2.5"
      ]
     },
     "execution_count": 7,
     "metadata": {},
     "output_type": "execute_result"
    }
   ],
   "source": [
    "mu = 17\n",
    "alpha = 0.025\n",
    "n = 100\n",
    "ave_d = 17.5\n",
    "squared_sigma = 4\n",
    "\n",
    "# считаем Z-статистику\n",
    "Z_stat = (ave_d - mu) / (m.sqrt(squared_sigma) / m.sqrt(n))\n",
    "Z_stat"
   ]
  },
  {
   "cell_type": "code",
   "execution_count": 8,
   "id": "d03b64d7",
   "metadata": {},
   "outputs": [
    {
     "data": {
      "text/plain": [
       "1.959963984540054"
      ]
     },
     "execution_count": 8,
     "metadata": {},
     "output_type": "execute_result"
    }
   ],
   "source": [
    "# Определяем правостроннюю критическую область\n",
    "t = stats.norm.ppf(1 - alpha)\n",
    "t"
   ]
  },
  {
   "cell_type": "markdown",
   "id": "f17f6589",
   "metadata": {},
   "source": [
    "Значение Z попадает в критическую область, значит нулевая гипотеза отвергается."
   ]
  },
  {
   "cell_type": "code",
   "execution_count": 9,
   "id": "658612ec",
   "metadata": {},
   "outputs": [
    {
     "data": {
      "text/plain": [
       "<matplotlib.legend.Legend at 0x210038b7c70>"
      ]
     },
     "execution_count": 9,
     "metadata": {},
     "output_type": "execute_result"
    },
    {
     "data": {
      "image/png": "[encoded data removed]",
      "text/plain": [
       "<Figure size 432x288 with 1 Axes>"
      ]
     },
     "metadata": {
      "needs_background": "light"
     },
     "output_type": "display_data"
    }
   ],
   "source": [
    "ox3 = np.linspace(-5, 5, 100)\n",
    "oy3 = stats.norm.pdf(ox3)\n",
    "\n",
    "ox3_right = np.linspace(t, 5, 30)\n",
    "oy3_right = stats.norm.pdf(ox3_right)\n",
    "\n",
    "plt.plot(ox3, oy3, label='нормальное распределение')\n",
    "plt.scatter(Z_stat, 0, label='Z-статистика', color='r')\n",
    "plt.fill_between(ox3_right, oy3_right, color='C0')\n",
    "plt.legend()"
   ]
  },
  {
   "cell_type": "markdown",
   "id": "57f912fd",
   "metadata": {},
   "source": [
    "<b>Задача 4 (Дополнительно)</b>\n",
    "\n",
    "Дана выборка диаметров подшипников из примера 1 с занятия 5:\n",
    "\n",
    "samples = [0.6603, 0.9466, 0.5968, 1.3792, 1.5481, 0.7515, 1.0681, 1.1134,\n",
    "1.2088, 1.701 , 1.0282, 1.3579, 1.0191, 1.1784, 1.1168, 1.1372,\n",
    "0.7273, 1.3958, 0.8665, 1.5112, 1.161 , 1.0232, 1.0865, 1.02 ]\n",
    "\n",
    "Предполагая, что диаметры подшипников распределены нормально, проверьте гипотезу о том, что дисперсия случайной величины равна 0.0625 при уровне значимости alpha = 0.05. Что для этого нужно знать:\n",
    "1. Альтернативная гипотеза двухсторонняя.\n",
    "2. Статистика для теста: H = (n - 1) * sample_variance / variance, где n - число элементов в выборке, sample_variance - несмещённая оценка дисперсии, variance - утверждаемая нулевой гипотезой дисперсия.\n",
    "3. Эта статистика в предположении верности нулевой гипотезы имеет распределение хи-квадрат с параметром df = n - 1. Её квантили можно найти с помощью функции scipy.stats.chi2.ppf."
   ]
  },
  {
   "cell_type": "markdown",
   "id": "751a03ce",
   "metadata": {},
   "source": [
    "$H_0$ - дисперсия диаметра шариков равна 0,0625;<br>\n",
    "$H_1$ - дисперсия диаметра шариков не равна 0,0625;<br>\n",
    "Будет использоваться статистика:\n",
    "$$\n",
    "H = \\frac{(n-1)\\cdot\\sigma^2_X}{\\sigma^2_0}$$<br>\n",
    "Уровень значимости $\\alpha = 0.05$"
   ]
  },
  {
   "cell_type": "code",
   "execution_count": 18,
   "id": "c1e2a9ba",
   "metadata": {},
   "outputs": [
    {
     "name": "stdout",
     "output_type": "stream",
     "text": [
      "28.720541753333343\n"
     ]
    }
   ],
   "source": [
    "samples = np.array([0.6603, 0.9466, 0.5968, 1.3792, 1.5481, 0.7515, 1.0681, 1.1134, 1.2088, 1.701 , 1.0282, 1.3579, 1.0191, \n",
    "           1.1784, 1.1168, 1.1372, 0.7273, 1.3958, 0.8665, 1.5112, 1.161 , 1.0232, 1.0865, 1.02 ])\n",
    "\n",
    "n = samples.shape[0]\n",
    "variance = 0.0625\n",
    "sample_variance = samples.var(ddof=1)\n",
    "alpha = 0.05\n",
    "\n",
    "# Статистический тест\n",
    "H = (n - 1) * sample_variance / variance\n",
    "print(H)"
   ]
  },
  {
   "cell_type": "code",
   "execution_count": 11,
   "id": "24eaac8e",
   "metadata": {},
   "outputs": [
    {
     "data": {
      "text/plain": [
       "(11.688551922452438, 38.0756272503558)"
      ]
     },
     "execution_count": 11,
     "metadata": {},
     "output_type": "execute_result"
    }
   ],
   "source": [
    "# Определяем критическую область\n",
    "t1 = stats.chi2.ppf((alpha / 2), df=n-1)\n",
    "t2 = stats.chi2.ppf(1 - alpha / 2, df = n - 1)\n",
    "t1, t2"
   ]
  },
  {
   "cell_type": "markdown",
   "id": "b020c103",
   "metadata": {},
   "source": [
    "Нулевая гипотеза принимается на уровне значимости 0,05"
   ]
  },
  {
   "cell_type": "code",
   "execution_count": 21,
   "id": "ab20a921",
   "metadata": {},
   "outputs": [
    {
     "data": {
      "text/plain": [
       "<matplotlib.legend.Legend at 0x21004b12e20>"
      ]
     },
     "execution_count": 21,
     "metadata": {},
     "output_type": "execute_result"
    },
    {
     "data": {
      "image/png": "[encoded data removed]",
      "text/plain": [
       "<Figure size 432x288 with 1 Axes>"
      ]
     },
     "metadata": {
      "needs_background": "light"
     },
     "output_type": "display_data"
    }
   ],
   "source": [
    "ox4 = np.linspace(0, 60, 600)\n",
    "oy4 = stats.chi2.pdf(ox4, df=n-1)\n",
    "\n",
    "ox4_left = np.linspace(0, t1, 200)\n",
    "oy4_left = stats.chi2.pdf(ox4_left, df=n-1)\n",
    "\n",
    "ox4_right = np.linspace(t2, 60, 600)\n",
    "oy4_right = stats.chi2.pdf(ox4_right, df=n-1)\n",
    "\n",
    "plt.plot(ox4, oy4, label='хи-квадрат распределение')\n",
    "plt.scatter(H, 0, label='H-статистика', color='r')\n",
    "plt.fill_between(ox4_left, oy4_left, alpha=0.5, color='C0')\n",
    "plt.fill_between(ox4_right, oy4_right, alpha=0.5, color='C0')\n",
    "plt.legend()"
   ]
  }
 ],
 "metadata": {
  "kernelspec": {
   "display_name": "Python 3",
   "language": "python",
   "name": "python3"
  },
  "language_info": {
   "codemirror_mode": {
    "name": "ipython",
    "version": 3
   },
   "file_extension": ".py",
   "mimetype": "text/x-python",
   "name": "python",
   "nbconvert_exporter": "python",
   "pygments_lexer": "ipython3",
   "version": "3.8.8"
  }
 },
 "nbformat": 4,
 "nbformat_minor": 5
}
