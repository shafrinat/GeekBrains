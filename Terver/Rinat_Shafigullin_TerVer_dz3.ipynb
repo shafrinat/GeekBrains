{
 "cells": [
  {
   "cell_type": "markdown",
   "id": "328dd4c4",
   "metadata": {},
   "source": [
    "### Теория вероятностей и математическая статистика\n",
    "##### Домашнее задание №3"
   ]
  },
  {
   "cell_type": "markdown",
   "id": "5308c357",
   "metadata": {},
   "source": [
    "<b>Задача 1</b>\n",
    "\n",
    "Даны значения зарплат из выборки выпускников:\n",
    "\n",
    "100, 80, 75, 77, 89, 33, 45, 25, 65, 17, 30, 24, 57, 55, 70, 75, 65, 84, 90, 150.\n",
    "\n",
    "Без использования статистических функций вроде mean, std, var, посчитать среднее арифметическое, среднее квадратичное отклонение, смещенную и несмещенную оценки дисперсий для данной выборки.\n",
    "\n",
    "Можно затем посчитать те же значения с использованием статистических функций, чтобы проверить себя."
   ]
  },
  {
   "cell_type": "code",
   "execution_count": 31,
   "id": "b299a80a",
   "metadata": {},
   "outputs": [
    {
     "name": "stdout",
     "output_type": "stream",
     "text": [
      "Среднее арифметическое вручную: 65.3\n",
      "Среднее арифметическое функция: 65.3\n",
      "####################################################\n",
      "СКО вручную: 31.624607341019814\n",
      "СКО функция: 31.624607341019814\n",
      "####################################################\n",
      "Дисперсия смещенная вручную 950.11\n",
      "Дисперсия смещенная функция salary    950.11\n",
      "dtype: float64\n",
      "####################################################\n",
      "Дисперсия несмещенная вручную 1000.1157894736842\n",
      "Дисперсия несмещенная функция salary    1000.115789\n",
      "dtype: float64\n"
     ]
    }
   ],
   "source": [
    "from statistics import mean\n",
    "import math as m\n",
    "import pandas as pd\n",
    "import numpy as np\n",
    "from matplotlib import pyplot as plt\n",
    "\n",
    "salaries = [100, 80, 75, 77, 89, 33, 45, 25, 65, 17, 30, 24, 57, 55, 70, 75, 65, 84, 90, 150]\n",
    "\n",
    "####### Среднее арифметическое #######\n",
    "# вручную\n",
    "total = 0\n",
    "for i in range(len(salaries)):\n",
    "    total += salaries[i]\n",
    "print(f'Среднее арифметическое вручную: {total/len(salaries)}')\n",
    "\n",
    "# То же, но с использованием встроенной функции\n",
    "print(f'Среднее арифметическое функция: {mean(salaries)}')\n",
    "print('####################################################') # разделитель\n",
    "\n",
    "####### СКО #######\n",
    "# Вручную, не смещенная\n",
    "sum_of_sqared_deviations = sum(pow(salaries[n]-mean(salaries), 2) for n in range(len(salaries)))\n",
    "std = m.sqrt(pow(len(salaries)-1, -1)*sum_of_sqared_deviations)\n",
    "print(f'СКО вручную: {std}')\n",
    "\n",
    "# То же, но с использованием встроенной функции\n",
    "df = pd.DataFrame(salaries, columns=['salary'])\n",
    "sal_std = df['salary'].std()\n",
    "print(f'СКО функция: {sal_std}')\n",
    "print('####################################################') # разделитель\n",
    "\n",
    "######## Дисперсия смещенная #######\n",
    "# Вручную\n",
    "d = sum_of_sqared_deviations/(len(salaries))\n",
    "print(f'Дисперсия смещенная вручную {d}')\n",
    "# Встроенная функция numpy\n",
    "print(f'Дисперсия смещенная функция {np.var(df)}') # numpy считает смещенную дисперсию\n",
    "print('####################################################') # разделитель\n",
    "\n",
    "\n",
    "######## Дисперсия несмещенная #######\n",
    "# Вручную\n",
    "d_x = sum_of_sqared_deviations/(len(salaries)-1)\n",
    "print(f'Дисперсия несмещенная вручную {d_x}')\n",
    "# Встроенная функция pandas\n",
    "print(f'Дисперсия несмещенная функция {df.var()}') # pandas считает несмещенную дисперсию"
   ]
  },
  {
   "cell_type": "markdown",
   "id": "eb3e5e94",
   "metadata": {},
   "source": [
    "<b>Задача 2</b>\n",
    "\n",
    "Для выборки из задачи 1 найти первый и третий квартили, интерквартильное расстояние. Найти выборсы в выборке, используя для этого \"усы\" из boxplot. В этой задаче можно использовать статистические функции."
   ]
  },
  {
   "cell_type": "code",
   "execution_count": 27,
   "id": "80a72bc4",
   "metadata": {},
   "outputs": [
    {
     "name": "stdout",
     "output_type": "stream",
     "text": [
      "Первый квартиль: 42.0\n",
      "Третий квартиль: 81.0\n",
      "Интерквартильный размах: 39.0\n"
     ]
    }
   ],
   "source": [
    "q1 = df['salary'].quantile([0.25])\n",
    "q3 = df['salary'].quantile([0.75])\n",
    "iqr = q3[0.75]-q1[0.25]\n",
    "\n",
    "print(f'Первый квартиль: {q1[0.25]}')\n",
    "print(f'Третий квартиль: {q3[0.75]}')\n",
    "print(f'Интерквартильный размах: {iqr}')"
   ]
  },
  {
   "cell_type": "code",
   "execution_count": 37,
   "id": "aa0fe96a",
   "metadata": {},
   "outputs": [
    {
     "data": {
      "text/plain": [
       "(-16.5, 139.5)"
      ]
     },
     "execution_count": 37,
     "metadata": {},
     "output_type": "execute_result"
    },
    {
     "data": {
      "image/png": "[encoded data removed]",
      "text/plain": [
       "<Figure size 432x288 with 1 Axes>"
      ]
     },
     "metadata": {
      "needs_background": "light"
     },
     "output_type": "display_data"
    }
   ],
   "source": [
    "df[['salary']].boxplot()\n",
    "\n",
    "boxplot_range = (q1[0.25] - 1.5 * iqr, q3[0.75] + 1.5 * iqr)\n",
    "boxplot_range"
   ]
  },
  {
   "cell_type": "markdown",
   "id": "43b88c5a",
   "metadata": {},
   "source": [
    "В нашем случае нижний \"ус\" ящика на уровне 17, так как это минимальное значение из выборки, и в промежутке от 17 до -16,5 других значений нет. То же самое и сверхним \"усом\". Максимальное значение выборки (150) лежит за пределами 139,5, в промежутке от 139,5 до 150 других значений нет, поэтому верхний \"ус\" на уровне 100 - следующее по убыванию значение после 150."
   ]
  },
  {
   "cell_type": "code",
   "execution_count": 42,
   "id": "bc1b006e",
   "metadata": {},
   "outputs": [
    {
     "data": {
      "text/html": [
       "<div>\n",
       "<style scoped>\n",
       "    .dataframe tbody tr th:only-of-type {\n",
       "        vertical-align: middle;\n",
       "    }\n",
       "\n",
       "    .dataframe tbody tr th {\n",
       "        vertical-align: top;\n",
       "    }\n",
       "\n",
       "    .dataframe thead th {\n",
       "        text-align: right;\n",
       "    }\n",
       "</style>\n",
       "<table border=\"1\" class=\"dataframe\">\n",
       "  <thead>\n",
       "    <tr style=\"text-align: right;\">\n",
       "      <th></th>\n",
       "      <th>salary</th>\n",
       "    </tr>\n",
       "  </thead>\n",
       "  <tbody>\n",
       "    <tr>\n",
       "      <th>19</th>\n",
       "      <td>150</td>\n",
       "    </tr>\n",
       "  </tbody>\n",
       "</table>\n",
       "</div>"
      ],
      "text/plain": [
       "    salary\n",
       "19     150"
      ]
     },
     "execution_count": 42,
     "metadata": {},
     "output_type": "execute_result"
    }
   ],
   "source": [
    "# Выбросы\n",
    "outliers = df.loc[(df['salary'] < boxplot_range[0]) | (df['salary'] > boxplot_range[1])]\n",
    "\n",
    "outliers"
   ]
  },
  {
   "cell_type": "markdown",
   "id": "d1914c69",
   "metadata": {},
   "source": [
    "Мы вычислили наличие одного выброса, это значение 150."
   ]
  },
  {
   "cell_type": "markdown",
   "id": "108d9017",
   "metadata": {},
   "source": [
    "<b>Задача 3</b>\n",
    "\n",
    "В университет на факультеты A и B поступило равное количество студентов, а на факультет C студентов поступило столько же, сколько на A и B вместе. Вероятность того, что студент факультета A сдаст первую сессию, равна 0.8. Для студента факультета B эта вероятность равна 0.7, а для студента факультета C - 0.9. Студент сдал первую сессию. Какова вероятность, что он учится: a) на факультете A? б) на факультете B? в) на факультете C?\n",
    "\n",
    "Замечание: да, эта задача не на тему описательных статистик, но тема важная, и её стоит иногда освежать в памяти."
   ]
  },
  {
   "cell_type": "markdown",
   "id": "55f5c247",
   "metadata": {},
   "source": [
    "Пусть событие S - сдача сессии (чтобы не путать с буквами факультетов). По условию задачи вероятности сдачи сессии студентами разных факультетов равны:\n",
    "$$\n",
    "P(S|A)=0.8$$\n",
    "$$\n",
    "P(S|B)=0.7$$\n",
    "$$\n",
    "P(S|C)=0.9$$\n",
    "Вероятность попасть на факультет равна:\n",
    "$$\n",
    "P(A)=0.25$$\n",
    "$$\n",
    "P(B)=0.25$$\n",
    "$$\n",
    "P(C)=0.5$$\n",
    "Суть задачи состоит в том, чтобы найти вероятности: а) $P(A|S)-?$; б) $P(B|S)-?$; в) $P(C|S)-?$"
   ]
  },
  {
   "cell_type": "markdown",
   "id": "6a8ea384",
   "metadata": {},
   "source": [
    "Найдем вероятность сдачи сессии по формуле полной вероятности: $P(S)=P(S|A)\\cdot P(A)+P(S|B)\\cdot P(B)+P(S|C)\\cdot P(C)=0.8\\cdot 0.25 + 0.7\\cdot 0.25 + 0.9\\cdot 0.5=0.825$\n",
    "<br>\n",
    "Далее воспользуемся формулой Байеса:<br>\n",
    "а) $$P(A|S)=\\frac{P(S|A)\\cdot P(A)}{P(S)}=\\frac{0.8\\cdot 0.25}{0.825}=0.24$$\n",
    "<br>\n",
    "б) $$P(B|S)=\\frac{P(S|B)\\cdot P(B)}{P(S)}=\\frac{0.7\\cdot 0.25}{0.825}=0.21$$\n",
    "<br>\n",
    "в) $$P(C|S)=\\frac{P(S|C)\\cdot P(C)}{P(S)}=\\frac{0.9\\cdot 0.5}{0.825}=0.55$$"
   ]
  }
 ],
 "metadata": {
  "kernelspec": {
   "display_name": "Python 3",
   "language": "python",
   "name": "python3"
  },
  "language_info": {
   "codemirror_mode": {
    "name": "ipython",
    "version": 3
   },
   "file_extension": ".py",
   "mimetype": "text/x-python",
   "name": "python",
   "nbconvert_exporter": "python",
   "pygments_lexer": "ipython3",
   "version": "3.8.8"
  }
 },
 "nbformat": 4,
 "nbformat_minor": 5
}
